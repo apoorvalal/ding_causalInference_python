{
 "cells": [
  {
   "cell_type": "markdown",
   "metadata": {},
   "source": [
    "# Chapter 5: Stratification and Post-Stratification in Randomized Experiments"
   ]
  },
  {
   "cell_type": "code",
   "execution_count": 1,
   "metadata": {},
   "outputs": [
    {
     "name": "stdout",
     "output_type": "stream",
     "text": [
      "matplotlib       : 3.8.0\n",
      "pandas           : 2.1.1\n",
      "scipy            : 1.11.3\n",
      "statsmodels      : 0.13.5\n",
      "matplotlib_inline: 0.1.6\n",
      "numpy            : 1.23.5\n",
      "\n"
     ]
    }
   ],
   "source": [
    "import numpy as np\n",
    "import pandas as pd\n",
    "import scipy as sp\n",
    "import statsmodels.api as sm\n",
    "import statsmodels.formula.api as smf\n",
    "\n",
    "# viz\n",
    "import matplotlib\n",
    "import matplotlib.pyplot as plt\n",
    "\n",
    "font = {\"family\": \"IBM Plex Sans Condensed\", \"weight\": \"normal\", \"size\": 10}\n",
    "plt.rc(\"font\", **font)\n",
    "plt.rcParams[\"figure.figsize\"] = (6, 6)\n",
    "%matplotlib inline\n",
    "%config InlineBackend.figure_format = 'retina'\n",
    "\n",
    "%load_ext autoreload\n",
    "%autoreload 1\n",
    "\n",
    "%load_ext watermark\n",
    "%watermark --iversions"
   ]
  },
  {
   "cell_type": "code",
   "execution_count": 2,
   "metadata": {},
   "outputs": [
    {
     "data": {
      "text/html": [
       "<div>\n",
       "<style scoped>\n",
       "    .dataframe tbody tr th:only-of-type {\n",
       "        vertical-align: middle;\n",
       "    }\n",
       "\n",
       "    .dataframe tbody tr th {\n",
       "        vertical-align: top;\n",
       "    }\n",
       "\n",
       "    .dataframe thead th {\n",
       "        text-align: right;\n",
       "    }\n",
       "</style>\n",
       "<table border=\"1\" class=\"dataframe\">\n",
       "  <thead>\n",
       "    <tr style=\"text-align: right;\">\n",
       "      <th></th>\n",
       "      <th>duration</th>\n",
       "      <th>treatment</th>\n",
       "      <th>female</th>\n",
       "      <th>black</th>\n",
       "      <th>hispanic</th>\n",
       "      <th>ndependents</th>\n",
       "      <th>recall</th>\n",
       "      <th>young</th>\n",
       "      <th>old</th>\n",
       "      <th>quarter</th>\n",
       "      <th>durable</th>\n",
       "      <th>lusd</th>\n",
       "    </tr>\n",
       "  </thead>\n",
       "  <tbody>\n",
       "    <tr>\n",
       "      <th>1</th>\n",
       "      <td>18.011343</td>\n",
       "      <td>0</td>\n",
       "      <td>0</td>\n",
       "      <td>0</td>\n",
       "      <td>0</td>\n",
       "      <td>2</td>\n",
       "      <td>0</td>\n",
       "      <td>0</td>\n",
       "      <td>0</td>\n",
       "      <td>5</td>\n",
       "      <td>0</td>\n",
       "      <td>0</td>\n",
       "    </tr>\n",
       "    <tr>\n",
       "      <th>4</th>\n",
       "      <td>1.003399</td>\n",
       "      <td>0</td>\n",
       "      <td>0</td>\n",
       "      <td>0</td>\n",
       "      <td>0</td>\n",
       "      <td>0</td>\n",
       "      <td>0</td>\n",
       "      <td>0</td>\n",
       "      <td>0</td>\n",
       "      <td>5</td>\n",
       "      <td>0</td>\n",
       "      <td>1</td>\n",
       "    </tr>\n",
       "    <tr>\n",
       "      <th>5</th>\n",
       "      <td>26.960396</td>\n",
       "      <td>0</td>\n",
       "      <td>0</td>\n",
       "      <td>0</td>\n",
       "      <td>0</td>\n",
       "      <td>0</td>\n",
       "      <td>0</td>\n",
       "      <td>0</td>\n",
       "      <td>0</td>\n",
       "      <td>4</td>\n",
       "      <td>0</td>\n",
       "      <td>1</td>\n",
       "    </tr>\n",
       "    <tr>\n",
       "      <th>6</th>\n",
       "      <td>7.009044</td>\n",
       "      <td>1</td>\n",
       "      <td>0</td>\n",
       "      <td>0</td>\n",
       "      <td>0</td>\n",
       "      <td>0</td>\n",
       "      <td>0</td>\n",
       "      <td>0</td>\n",
       "      <td>0</td>\n",
       "      <td>2</td>\n",
       "      <td>0</td>\n",
       "      <td>0</td>\n",
       "    </tr>\n",
       "    <tr>\n",
       "      <th>12</th>\n",
       "      <td>9.022409</td>\n",
       "      <td>1</td>\n",
       "      <td>0</td>\n",
       "      <td>0</td>\n",
       "      <td>0</td>\n",
       "      <td>0</td>\n",
       "      <td>0</td>\n",
       "      <td>1</td>\n",
       "      <td>0</td>\n",
       "      <td>3</td>\n",
       "      <td>0</td>\n",
       "      <td>0</td>\n",
       "    </tr>\n",
       "  </tbody>\n",
       "</table>\n",
       "</div>"
      ],
      "text/plain": [
       "     duration  treatment  female  black  hispanic  ndependents  recall  young  \\\n",
       "1   18.011343          0       0      0         0            2       0      0   \n",
       "4    1.003399          0       0      0         0            0       0      0   \n",
       "5   26.960396          0       0      0         0            0       0      0   \n",
       "6    7.009044          1       0      0         0            0       0      0   \n",
       "12   9.022409          1       0      0         0            0       0      1   \n",
       "\n",
       "    old  quarter  durable  lusd  \n",
       "1     0        5        0     0  \n",
       "4     0        5        0     1  \n",
       "5     0        4        0     1  \n",
       "6     0        2        0     0  \n",
       "12    0        3        0     0  "
      ]
     },
     "execution_count": 2,
     "metadata": {},
     "output_type": "execute_result"
    }
   ],
   "source": [
    "penndata = pd.read_table(\"Penn46_ascii.txt\", sep=\"\\s+\")\n",
    "y, z, block = (\n",
    "    np.log(penndata.duration).values,\n",
    "    penndata.treatment.values,\n",
    "    penndata.quarter.values,\n",
    ")\n",
    "penndata.head()"
   ]
  },
  {
   "cell_type": "code",
   "execution_count": 3,
   "metadata": {},
   "outputs": [
    {
     "data": {
      "text/html": [
       "<div>\n",
       "<style scoped>\n",
       "    .dataframe tbody tr th:only-of-type {\n",
       "        vertical-align: middle;\n",
       "    }\n",
       "\n",
       "    .dataframe tbody tr th {\n",
       "        vertical-align: top;\n",
       "    }\n",
       "\n",
       "    .dataframe thead th {\n",
       "        text-align: right;\n",
       "    }\n",
       "</style>\n",
       "<table border=\"1\" class=\"dataframe\">\n",
       "  <thead>\n",
       "    <tr style=\"text-align: right;\">\n",
       "      <th>col_0</th>\n",
       "      <th>0</th>\n",
       "      <th>1</th>\n",
       "      <th>2</th>\n",
       "      <th>3</th>\n",
       "      <th>4</th>\n",
       "      <th>5</th>\n",
       "    </tr>\n",
       "    <tr>\n",
       "      <th>row_0</th>\n",
       "      <th></th>\n",
       "      <th></th>\n",
       "      <th></th>\n",
       "      <th></th>\n",
       "      <th></th>\n",
       "      <th></th>\n",
       "    </tr>\n",
       "  </thead>\n",
       "  <tbody>\n",
       "    <tr>\n",
       "      <th>0</th>\n",
       "      <td>234</td>\n",
       "      <td>41</td>\n",
       "      <td>687</td>\n",
       "      <td>794</td>\n",
       "      <td>738</td>\n",
       "      <td>860</td>\n",
       "    </tr>\n",
       "    <tr>\n",
       "      <th>1</th>\n",
       "      <td>87</td>\n",
       "      <td>48</td>\n",
       "      <td>757</td>\n",
       "      <td>866</td>\n",
       "      <td>811</td>\n",
       "      <td>461</td>\n",
       "    </tr>\n",
       "  </tbody>\n",
       "</table>\n",
       "</div>"
      ],
      "text/plain": [
       "col_0    0   1    2    3    4    5\n",
       "row_0                             \n",
       "0      234  41  687  794  738  860\n",
       "1       87  48  757  866  811  461"
      ]
     },
     "execution_count": 3,
     "metadata": {},
     "output_type": "execute_result"
    }
   ],
   "source": [
    "pd.crosstab(z, block)"
   ]
  },
  {
   "cell_type": "markdown",
   "metadata": {},
   "source": [
    "## FRT"
   ]
  },
  {
   "cell_type": "code",
   "execution_count": 4,
   "metadata": {},
   "outputs": [],
   "source": [
    "def stat_SRE(z, y, x):\n",
    "    xlevels = np.unique(x)\n",
    "    K = len(xlevels)\n",
    "    PiK, TauK, Wk = np.zeros(K), np.zeros(K), np.zeros(K)\n",
    "    for k in range(K):\n",
    "        id = np.where(x == xlevels[k])\n",
    "        zk = z[id]\n",
    "        yk = y[id]\n",
    "        PiK[k] = zk.shape[0] / z.shape[0]\n",
    "        TauK[k] = np.mean(yk[zk == 1]) - np.mean(yk[zk == 0])\n",
    "        Wk[k] = sp.stats.mannwhitneyu(yk[zk == 1], yk[zk == 0])[0]\n",
    "    return np.sum(PiK * TauK), sum(Wk / PiK)\n",
    "\n",
    "\n",
    "def zRandomSRE(z, x):\n",
    "    xlevels = np.unique(x)\n",
    "    K = len(xlevels)\n",
    "    zrandom = z.copy()\n",
    "    for k in range(K):\n",
    "        xk = xlevels[k]\n",
    "        zrandom[x == xk] = np.random.permutation(z[x == xk])\n",
    "    return zrandom"
   ]
  },
  {
   "cell_type": "code",
   "execution_count": 5,
   "metadata": {},
   "outputs": [
    {
     "name": "stdout",
     "output_type": "stream",
     "text": [
      "0.001\n",
      "0.0\n"
     ]
    }
   ],
   "source": [
    "# observed test statistics\n",
    "stat_obs = stat_SRE(z, y, block)\n",
    "# null distribution\n",
    "MC = int(1e3)\n",
    "statSREMC = np.zeros((MC, 2))\n",
    "for k in range(MC):\n",
    "    zrandom = zRandomSRE(z, block)\n",
    "    statSREMC[k] = stat_SRE(zrandom, y, block)\n",
    "\n",
    "print(np.mean(statSREMC[:, 0] <= stat_obs[0]))\n",
    "print(np.mean(statSREMC[:, 1] <= stat_obs[1]))"
   ]
  },
  {
   "cell_type": "code",
   "execution_count": 6,
   "metadata": {},
   "outputs": [
    {
     "data": {
      "image/png": "[encoded data removed]",
      "text/plain": [
       "<Figure size 600x600 with 2 Axes>"
      ]
     },
     "metadata": {
      "image/png": {
       "height": 525,
       "width": 509
      }
     },
     "output_type": "display_data"
    }
   ],
   "source": [
    "f, ax = plt.subplots(2, 1)\n",
    "ax[0].hist(statSREMC[:, 0], bins=50)\n",
    "ax[0].vlines(stat_obs[0], 0, 50, color=\"red\")\n",
    "ax[0].set_xlabel(r\"$\\hat{\\tau}_s$\")\n",
    "ax[1].hist(statSREMC[:, 1], bins=30)\n",
    "ax[1].vlines(stat_obs[1], 0, 50, color=\"red\")\n",
    "ax[1].set_xlabel(r\"$W_s$\")\n",
    "plt.show()"
   ]
  },
  {
   "cell_type": "markdown",
   "metadata": {},
   "source": [
    "## Neyman"
   ]
  },
  {
   "cell_type": "code",
   "execution_count": 7,
   "metadata": {},
   "outputs": [],
   "source": [
    "def neyman_SRE(z, y, x):\n",
    "    xlevels = np.unique(x)\n",
    "    K = len(xlevels)\n",
    "    PiK, TauK, varK = np.zeros(K), np.zeros(K), np.zeros(K)\n",
    "    for k in range(K):\n",
    "        id = np.where(x == xlevels[k])\n",
    "        zk, yk = z[id], y[id]\n",
    "        PiK[k] = zk.shape[0] / z.shape[0]\n",
    "        TauK[k] = np.mean(yk[zk == 1]) - np.mean(yk[zk == 0])\n",
    "        varK[k] = np.var(yk[zk == 1], ddof=1) / sum(zk) + np.var(\n",
    "            yk[zk == 0], ddof=1\n",
    "        ) / sum(1 - zk)\n",
    "    return np.sum(PiK * TauK), np.sum(PiK**2 * varK)"
   ]
  },
  {
   "cell_type": "code",
   "execution_count": 8,
   "metadata": {},
   "outputs": [],
   "source": [
    "def sim_cluster(K, n, n1, n0):\n",
    "    x = np.repeat(range(K), n)\n",
    "    y0 = np.random.exponential(1, n * K)\n",
    "    y1 = y0 + 1\n",
    "    # block level assignment vector\n",
    "    zb = np.repeat([0, 1], [n0, n1])\n",
    "    MC = int(1e4)\n",
    "    TauHat, VarHat = np.zeros(MC), np.zeros(MC)\n",
    "    for k in range(MC):\n",
    "        z = np.concatenate([np.random.permutation(zb) for i in range(K)])\n",
    "        y = z * y1 + (1 - z) * y0\n",
    "        TauHat[k], VarHat[k] = neyman_SRE(z, y, x)\n",
    "    plt.hist(TauHat, bins=50)\n",
    "    plt.vlines(1, 0, 500, color=\"red\")\n",
    "    return np.var(TauHat), np.mean(VarHat)"
   ]
  },
  {
   "cell_type": "code",
   "execution_count": 9,
   "metadata": {},
   "outputs": [
    {
     "data": {
      "text/plain": [
       "(0.009649300175537943, 0.00978208282388499)"
      ]
     },
     "execution_count": 9,
     "metadata": {},
     "output_type": "execute_result"
    },
    {
     "data": {
      "image/png": "[encoded data removed]",
      "text/plain": [
       "<Figure size 600x600 with 1 Axes>"
      ]
     },
     "metadata": {
      "image/png": {
       "height": 505,
       "width": 517
      }
     },
     "output_type": "display_data"
    }
   ],
   "source": [
    "sim_cluster(5, 80, 50, 30)"
   ]
  },
  {
   "cell_type": "code",
   "execution_count": 10,
   "metadata": {},
   "outputs": [
    {
     "data": {
      "text/plain": [
       "(0.010911041476145415, 0.010650749123757628)"
      ]
     },
     "execution_count": 10,
     "metadata": {},
     "output_type": "execute_result"
    },
    {
     "data": {
      "image/png": "[encoded data removed]",
      "text/plain": [
       "<Figure size 600x600 with 1 Axes>"
      ]
     },
     "metadata": {
      "image/png": {
       "height": 505,
       "width": 517
      }
     },
     "output_type": "display_data"
    }
   ],
   "source": [
    "sim_cluster(50, 8, 5, 3)"
   ]
  },
  {
   "cell_type": "markdown",
   "metadata": {},
   "source": [
    "### application to Penn bonus experiment"
   ]
  },
  {
   "cell_type": "code",
   "execution_count": 11,
   "metadata": {},
   "outputs": [
    {
     "data": {
      "text/plain": [
       "(-0.0899064590011073, 0.030797749686469634)"
      ]
     },
     "execution_count": 11,
     "metadata": {},
     "output_type": "execute_result"
    }
   ],
   "source": [
    "est, var = neyman_SRE(z, y, block)\n",
    "est, np.sqrt(var)"
   ]
  },
  {
   "cell_type": "markdown",
   "metadata": {},
   "source": [
    "## chong et al (2016)"
   ]
  },
  {
   "cell_type": "code",
   "execution_count": 12,
   "metadata": {},
   "outputs": [
    {
     "data": {
      "text/html": [
       "<div>\n",
       "<style scoped>\n",
       "    .dataframe tbody tr th:only-of-type {\n",
       "        vertical-align: middle;\n",
       "    }\n",
       "\n",
       "    .dataframe tbody tr th {\n",
       "        vertical-align: top;\n",
       "    }\n",
       "\n",
       "    .dataframe thead th {\n",
       "        text-align: right;\n",
       "    }\n",
       "</style>\n",
       "<table border=\"1\" class=\"dataframe\">\n",
       "  <thead>\n",
       "    <tr style=\"text-align: right;\">\n",
       "      <th>class_level</th>\n",
       "      <th>1.0</th>\n",
       "      <th>2.0</th>\n",
       "      <th>3.0</th>\n",
       "      <th>4.0</th>\n",
       "      <th>5.0</th>\n",
       "    </tr>\n",
       "    <tr>\n",
       "      <th>treatment</th>\n",
       "      <th></th>\n",
       "      <th></th>\n",
       "      <th></th>\n",
       "      <th></th>\n",
       "      <th></th>\n",
       "    </tr>\n",
       "  </thead>\n",
       "  <tbody>\n",
       "    <tr>\n",
       "      <th>Soccer Player</th>\n",
       "      <td>16</td>\n",
       "      <td>19</td>\n",
       "      <td>15</td>\n",
       "      <td>10</td>\n",
       "      <td>10</td>\n",
       "    </tr>\n",
       "    <tr>\n",
       "      <th>Physician</th>\n",
       "      <td>17</td>\n",
       "      <td>20</td>\n",
       "      <td>15</td>\n",
       "      <td>11</td>\n",
       "      <td>10</td>\n",
       "    </tr>\n",
       "    <tr>\n",
       "      <th>Placebo</th>\n",
       "      <td>15</td>\n",
       "      <td>19</td>\n",
       "      <td>16</td>\n",
       "      <td>12</td>\n",
       "      <td>10</td>\n",
       "    </tr>\n",
       "  </tbody>\n",
       "</table>\n",
       "</div>"
      ],
      "text/plain": [
       "class_level    1.0  2.0  3.0  4.0  5.0\n",
       "treatment                             \n",
       "Soccer Player   16   19   15   10   10\n",
       "Physician       17   20   15   11   10\n",
       "Placebo         15   19   16   12   10"
      ]
     },
     "execution_count": 12,
     "metadata": {},
     "output_type": "execute_result"
    }
   ],
   "source": [
    "dat_chong = pd.read_stata(\"chong.dta\")\n",
    "pd.crosstab(dat_chong.treatment, dat_chong.class_level)"
   ]
  },
  {
   "cell_type": "code",
   "execution_count": 13,
   "metadata": {},
   "outputs": [
    {
     "data": {
      "text/html": [
       "<div>\n",
       "<style scoped>\n",
       "    .dataframe tbody tr th:only-of-type {\n",
       "        vertical-align: middle;\n",
       "    }\n",
       "\n",
       "    .dataframe tbody tr th {\n",
       "        vertical-align: top;\n",
       "    }\n",
       "\n",
       "    .dataframe thead th {\n",
       "        text-align: right;\n",
       "    }\n",
       "</style>\n",
       "<table border=\"1\" class=\"dataframe\">\n",
       "  <thead>\n",
       "    <tr style=\"text-align: right;\">\n",
       "      <th>class_level</th>\n",
       "      <th>1.0</th>\n",
       "      <th>2.0</th>\n",
       "      <th>3.0</th>\n",
       "      <th>4.0</th>\n",
       "      <th>5.0</th>\n",
       "    </tr>\n",
       "    <tr>\n",
       "      <th>z</th>\n",
       "      <th></th>\n",
       "      <th></th>\n",
       "      <th></th>\n",
       "      <th></th>\n",
       "      <th></th>\n",
       "    </tr>\n",
       "  </thead>\n",
       "  <tbody>\n",
       "    <tr>\n",
       "      <th>0</th>\n",
       "      <td>15</td>\n",
       "      <td>19</td>\n",
       "      <td>16</td>\n",
       "      <td>12</td>\n",
       "      <td>10</td>\n",
       "    </tr>\n",
       "    <tr>\n",
       "      <th>1</th>\n",
       "      <td>17</td>\n",
       "      <td>20</td>\n",
       "      <td>15</td>\n",
       "      <td>11</td>\n",
       "      <td>10</td>\n",
       "    </tr>\n",
       "  </tbody>\n",
       "</table>\n",
       "</div>"
      ],
      "text/plain": [
       "class_level  1.0  2.0  3.0  4.0  5.0\n",
       "z                                   \n",
       "0             15   19   16   12   10\n",
       "1             17   20   15   11   10"
      ]
     },
     "execution_count": 13,
     "metadata": {},
     "output_type": "execute_result"
    }
   ],
   "source": [
    "use_vars = [\"treatment\", \"gradesq34\", \"class_level\", \"anemic_base_re\"]\n",
    "dat_physician = dat_chong.loc[dat_chong.treatment != \"Soccer Player\", use_vars]\n",
    "dat_physician[\"z\"] = np.where(dat_physician.treatment == \"Physician\", 1, 0)\n",
    "dat_physician[\"y\"] = dat_physician.gradesq34\n",
    "pd.crosstab(dat_physician.z, dat_physician.class_level)"
   ]
  },
  {
   "cell_type": "code",
   "execution_count": 14,
   "metadata": {},
   "outputs": [
    {
     "data": {
      "text/plain": [
       "(0.40589046478271484, 0.04096197815071462)"
      ]
     },
     "execution_count": 14,
     "metadata": {},
     "output_type": "execute_result"
    }
   ],
   "source": [
    "(\n",
    "    tauS := neyman_SRE(\n",
    "        dat_physician.z.values, dat_physician.y.values, dat_physician.class_level.values\n",
    "    )\n",
    ")"
   ]
  },
  {
   "cell_type": "code",
   "execution_count": 15,
   "metadata": {},
   "outputs": [
    {
     "data": {
      "text/plain": [
       "(0.4633431335975384, 0.03624964630443229)"
      ]
     },
     "execution_count": 15,
     "metadata": {},
     "output_type": "execute_result"
    }
   ],
   "source": [
    "dat_physician[\"sps\"] = pd.Categorical(\n",
    "    dat_physician[\"class_level\"].astype(str)\n",
    "    + \"_\"\n",
    "    + dat_physician[\"anemic_base_re\"].astype(str)\n",
    ")\n",
    "(\n",
    "    tauSPS := neyman_SRE(\n",
    "        dat_physician.z.values, dat_physician.y.values, dat_physician.sps.values\n",
    "    )\n",
    ")"
   ]
  },
  {
   "cell_type": "code",
   "execution_count": 16,
   "metadata": {},
   "outputs": [
    {
     "data": {
      "text/html": [
       "<div>\n",
       "<style scoped>\n",
       "    .dataframe tbody tr th:only-of-type {\n",
       "        vertical-align: middle;\n",
       "    }\n",
       "\n",
       "    .dataframe tbody tr th {\n",
       "        vertical-align: top;\n",
       "    }\n",
       "\n",
       "    .dataframe thead th {\n",
       "        text-align: right;\n",
       "    }\n",
       "</style>\n",
       "<table border=\"1\" class=\"dataframe\">\n",
       "  <thead>\n",
       "    <tr style=\"text-align: right;\">\n",
       "      <th></th>\n",
       "      <th>Estimate</th>\n",
       "      <th>Std. Error</th>\n",
       "      <th>z value</th>\n",
       "      <th>Pr(&gt;|z|)</th>\n",
       "    </tr>\n",
       "  </thead>\n",
       "  <tbody>\n",
       "    <tr>\n",
       "      <th>Stratify</th>\n",
       "      <td>0.405890</td>\n",
       "      <td>0.202391</td>\n",
       "      <td>2.005480</td>\n",
       "      <td>0.044912</td>\n",
       "    </tr>\n",
       "    <tr>\n",
       "      <th>Stratify and post-stratify</th>\n",
       "      <td>0.463343</td>\n",
       "      <td>0.190393</td>\n",
       "      <td>2.433609</td>\n",
       "      <td>0.014949</td>\n",
       "    </tr>\n",
       "  </tbody>\n",
       "</table>\n",
       "</div>"
      ],
      "text/plain": [
       "                            Estimate  Std. Error   z value  Pr(>|z|)\n",
       "Stratify                    0.405890    0.202391  2.005480  0.044912\n",
       "Stratify and post-stratify  0.463343    0.190393  2.433609  0.014949"
      ]
     },
     "execution_count": 16,
     "metadata": {},
     "output_type": "execute_result"
    }
   ],
   "source": [
    "seS = np.sqrt(tauS[1])\n",
    "seSPS = np.sqrt(tauSPS[1])\n",
    "\n",
    "pvalS = 2 * (1 - sp.stats.norm.cdf(abs(tauS[0] / seS)))\n",
    "pvalSPS = 2 * (1 - sp.stats.norm.cdf(abs(tauSPS[0] / seSPS)))\n",
    "\n",
    "pd.DataFrame(\n",
    "    np.r_[\n",
    "        np.c_[tauS[0], seS, tauS[0] / seS, pvalS],\n",
    "        np.c_[tauSPS[0], seSPS, tauSPS[0] / seSPS, pvalSPS],\n",
    "    ],\n",
    "    columns=[\"Estimate\", \"Std. Error\", \"z value\", \"Pr(>|z|)\"],\n",
    "    index=[\"Stratify\", \"Stratify and post-stratify\"],\n",
    ")"
   ]
  }
 ],
 "metadata": {
  "kernelspec": {
   "display_name": "econometrics",
   "language": "python",
   "name": "econometrics"
  },
  "language_info": {
   "codemirror_mode": {
    "name": "ipython",
    "version": 3
   },
   "file_extension": ".py",
   "mimetype": "text/x-python",
   "name": "python",
   "nbconvert_exporter": "python",
   "pygments_lexer": "ipython3",
   "version": "3.9.13"
  }
 },
 "nbformat": 4,
 "nbformat_minor": 2
}
