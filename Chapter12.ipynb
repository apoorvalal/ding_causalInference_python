{
 "cells": [
  {
   "cell_type": "markdown",
   "metadata": {},
   "source": [
    "# Chapter 12: The Doubly Robust or the Augmented Inverse Probability Score Weighting Estimator for the Average Causal Effect"
   ]
  },
  {
   "cell_type": "code",
   "execution_count": 1,
   "metadata": {},
   "outputs": [
    {
     "name": "stdout",
     "output_type": "stream",
     "text": [
      "statsmodels      : 0.14.0\n",
      "seaborn          : 0.12.2\n",
      "sklearn          : 1.2.2\n",
      "matplotlib       : 3.7.2\n",
      "matplotlib_inline: 0.1.6\n",
      "pandas           : 2.0.3\n",
      "numpy            : 1.24.3\n",
      "\n"
     ]
    }
   ],
   "source": [
    "from joblib import Parallel, delayed\n",
    "\n",
    "import numpy as np\n",
    "import pandas as pd\n",
    "import statsmodels.api as sm\n",
    "import matplotlib.pyplot as plt\n",
    "import seaborn as sns\n",
    "import sklearn as skl\n",
    "\n",
    "font = {'family' : 'IBM Plex Sans Condensed',\n",
    "               'weight' : 'normal',\n",
    "               'size'   : 10}\n",
    "plt.rc('font', **font)\n",
    "plt.rcParams['figure.figsize'] = (6, 6)\n",
    "%matplotlib inline\n",
    "%config InlineBackend.figure_format = 'retina'\n",
    "\n",
    "np.random.seed(42)\n",
    "%load_ext autoreload\n",
    "%autoreload 1\n",
    "\n",
    "%load_ext watermark\n",
    "%watermark --iversions\n",
    "\n"
   ]
  },
  {
   "cell_type": "code",
   "execution_count": 2,
   "metadata": {},
   "outputs": [],
   "source": [
    "def OS_est(z, y, x, omod, pmod, lb=0, ub=1):\n",
    "    pscore = pmod.fit(x, z).predict_proba(x)[:, 1]\n",
    "    pscore = np.clip(pscore, lb, ub)\n",
    "    # fitted potential outcomes\n",
    "    outcome1 = omod.fit(x[z == 1, :], y[z == 1]).predict(x)\n",
    "    outcome0 = omod.fit(x[z == 0, :], y[z == 0]).predict(x)\n",
    "    # omod\n",
    "    ace_reg = (outcome1 - outcome0).mean()\n",
    "    # ipw\n",
    "    y_treat = (y * z / pscore).mean()\n",
    "    y_control = (y * (1 - z) / (1 - pscore)).mean()\n",
    "    one_treat = (z / pscore).mean()\n",
    "    one_control = ((1 - z) / (1 - pscore)).mean()\n",
    "    ace_ipw0 = y_treat - y_control\n",
    "    ace_ipw = y_treat / one_treat - y_control / one_control\n",
    "    # aipw\n",
    "    r_treat, r_control = (\n",
    "        (z * (y - outcome1) / pscore).mean(),\n",
    "        ((1 - z) * (y - outcome0) / (1 - pscore)).mean(),\n",
    "    )\n",
    "    ace_dr = ace_reg + r_treat - r_control\n",
    "    return np.array([ace_reg, ace_ipw0, ace_ipw, ace_dr])"
   ]
  },
  {
   "cell_type": "code",
   "execution_count": 3,
   "metadata": {},
   "outputs": [],
   "source": [
    "from sklearn.linear_model import LogisticRegression, LinearRegression\n",
    "\n",
    "lmod, omod = LogisticRegression(penalty=None), LinearRegression()"
   ]
  },
  {
   "cell_type": "code",
   "execution_count": 15,
   "metadata": {},
   "outputs": [],
   "source": [
    "def OS_ATE(z, y, x, omod=omod, pmod=lmod, n_boot=2 * 1e2, truncps=(0, 1)):\n",
    "    point_est = OS_est(z, y, x, omod, pmod, *truncps)\n",
    "    n = len(z)\n",
    "\n",
    "    # nonparametric bootstrap\n",
    "    def bootfn(*args):\n",
    "        # draw indices\n",
    "        ids = np.random.choice(np.arange(n), size=n, replace=True)\n",
    "        return OS_est(z[ids], y[ids], x[ids, :], omod, pmod)\n",
    "\n",
    "    boot_est = Parallel(n_jobs=-1)(delayed(bootfn)(i) for i in range(int(n_boot)))\n",
    "    boot_est = np.vstack(boot_est)\n",
    "    # return boot_est\n",
    "    boot_se = boot_est.std(axis=0)\n",
    "\n",
    "    res = pd.DataFrame(\n",
    "        [point_est, boot_se],\n",
    "        index=[\"point_est\", \"boot_se\"],\n",
    "        columns=[\"omod\", \"ipw0\", \"ipw\", \"aipw\"],\n",
    "    )\n",
    "    return res"
   ]
  },
  {
   "cell_type": "code",
   "execution_count": 18,
   "metadata": {},
   "outputs": [
    {
     "data": {
      "text/plain": [
       "array([ 0.        , -0.03158827, -0.10764208, -0.16381696, -0.09518803,\n",
       "        0.10472859,  0.16304548,  0.16203658,  0.11038457])"
      ]
     },
     "execution_count": 18,
     "metadata": {},
     "output_type": "execute_result"
    }
   ],
   "source": [
    "def simu11(n=500):\n",
    "    x = np.random.normal(size=(n, 2))\n",
    "    x1 = np.c_[np.ones(n), x]\n",
    "    beta_z = np.array([0, 1, 1])\n",
    "    pscore = 1 / (1 + np.exp(-x1 @ beta_z))\n",
    "    z = np.random.binomial(1, pscore)\n",
    "    beta_y1, beta_y0 = np.array([1, 2, 1]), np.array([1, 2, 1])\n",
    "    y1, y0 = x1 @ beta_y1, x1 @ beta_y0\n",
    "    y = z * y1 + (1 - z) * y0 + np.random.normal(size=n)\n",
    "    ce = OS_ATE(z, y, x)\n",
    "    return np.r_[(y1 - y0).mean(), ce.iloc[0, :], ce.iloc[1, :]]\n",
    "\n",
    "\n",
    "simu11()"
   ]
  },
  {
   "cell_type": "code",
   "execution_count": 19,
   "metadata": {},
   "outputs": [
    {
     "data": {
      "text/plain": [
       "array([ 0.04582345, -0.22549646, -0.46072515, -0.52516757, -0.17942783,\n",
       "        0.12001089,  0.25216989,  0.24312848,  0.13680289])"
      ]
     },
     "execution_count": 19,
     "metadata": {},
     "output_type": "execute_result"
    }
   ],
   "source": [
    "def simu01(n=500):\n",
    "    x = np.random.normal(size=(n, 2))\n",
    "    x1 = np.c_[np.ones(n), x, np.exp(x)]\n",
    "    beta_z = np.array([-1, 0, 0, 1, -1])\n",
    "    pscore = 1 / (1 + np.exp(-x1 @ beta_z))\n",
    "    z = np.random.binomial(1, pscore)\n",
    "    beta_y1, beta_y0 = np.array([1, 2, 1, 0, 0]), np.array([1, 1, 1, 0, 0])\n",
    "    y1, y0 = x1 @ beta_y1, x1 @ beta_y0\n",
    "    y = z * y1 + (1 - z) * y0 + np.random.normal(size=n)\n",
    "    ce = OS_ATE(z, y, x)\n",
    "    return np.r_[(y1 - y0).mean(), ce.iloc[0, :], ce.iloc[1, :]]\n",
    "\n",
    "\n",
    "simu01()"
   ]
  },
  {
   "cell_type": "code",
   "execution_count": 20,
   "metadata": {},
   "outputs": [
    {
     "data": {
      "text/plain": [
       "array([0.37558253, 0.30140973, 0.34046859, 0.33410275, 0.34599118,\n",
       "       0.1020255 , 0.10175789, 0.09951637, 0.10378403])"
      ]
     },
     "execution_count": 20,
     "metadata": {},
     "output_type": "execute_result"
    }
   ],
   "source": [
    "def simu10(n=500):\n",
    "    x = np.random.normal(size=(n, 2))\n",
    "    x1 = np.c_[np.ones(n), x, np.exp(x)]\n",
    "    beta_z = np.array([0, 1, 1, 0, 0])\n",
    "    pscore = 1 / (1 + np.exp(-x1 @ beta_z))\n",
    "    z = np.random.binomial(1, pscore)\n",
    "    beta_y1, beta_y0 = np.array([1, 0, 0, 0.2, -0.1]), np.array([1, 0, 0, -0.2, 0.1])\n",
    "    y1, y0 = x1 @ beta_y1, x1 @ beta_y0\n",
    "    y = z * y1 + (1 - z) * y0 + np.random.normal(size=n)\n",
    "    ce = OS_ATE(z, y, x)\n",
    "    return np.r_[(y1 - y0).mean(), ce.iloc[0, :], ce.iloc[1, :]]\n",
    "\n",
    "\n",
    "simu10()"
   ]
  },
  {
   "cell_type": "code",
   "execution_count": 21,
   "metadata": {},
   "outputs": [
    {
     "data": {
      "text/plain": [
       "array([0.35452903, 0.05032412, 0.19088308, 0.1505216 , 0.22355156,\n",
       "       0.1339793 , 0.16197421, 0.13353598, 0.17576791])"
      ]
     },
     "execution_count": 21,
     "metadata": {},
     "output_type": "execute_result"
    }
   ],
   "source": [
    "def simu00(n=500):\n",
    "    x = np.random.normal(size=(n, 2))\n",
    "    x1 = np.c_[np.ones(n), x, np.exp(x)]\n",
    "    beta_z = np.array([-1, 0, 0, 1, -1])\n",
    "    pscore = 1 / (1 + np.exp(-x1 @ beta_z))\n",
    "    z = np.random.binomial(1, pscore)\n",
    "    beta_y1, beta_y0 = np.array([1, 0, 0, 0.2, -0.1]), np.array([1, 0, 0, -0.2, 0.1])\n",
    "    y1, y0 = x1 @ beta_y1, x1 @ beta_y0\n",
    "    y = z * y1 + (1 - z) * y0 + np.random.normal(size=n)\n",
    "    ce = OS_ATE(z, y, x)\n",
    "    return np.r_[(y1 - y0).mean(), ce.iloc[0, :], ce.iloc[1, :]]\n",
    "\n",
    "\n",
    "simu00()"
   ]
  },
  {
   "cell_type": "code",
   "execution_count": 22,
   "metadata": {},
   "outputs": [],
   "source": [
    "def simstudy(f, n, truth=0):\n",
    "    est = [f() for _ in range(n)]\n",
    "    est = np.vstack(est)\n",
    "\n",
    "    bias = est[:, 1:5] - truth\n",
    "    return pd.DataFrame(\n",
    "        [bias.mean(axis=0), bias.std(axis=0), est[:, 5:].mean(axis=0)],\n",
    "        index=[\"bias\", \"true se\", \"est se\"],\n",
    "        columns=[\"omod\", \"ipw0\", \"ipw\", \"aipw\"],\n",
    "    )"
   ]
  },
  {
   "cell_type": "markdown",
   "metadata": {},
   "source": [
    "Both well specified"
   ]
  },
  {
   "cell_type": "code",
   "execution_count": 23,
   "metadata": {},
   "outputs": [
    {
     "data": {
      "text/html": [
       "<div>\n",
       "<style scoped>\n",
       "    .dataframe tbody tr th:only-of-type {\n",
       "        vertical-align: middle;\n",
       "    }\n",
       "\n",
       "    .dataframe tbody tr th {\n",
       "        vertical-align: top;\n",
       "    }\n",
       "\n",
       "    .dataframe thead th {\n",
       "        text-align: right;\n",
       "    }\n",
       "</style>\n",
       "<table border=\"1\" class=\"dataframe\">\n",
       "  <thead>\n",
       "    <tr style=\"text-align: right;\">\n",
       "      <th></th>\n",
       "      <th>omod</th>\n",
       "      <th>ipw0</th>\n",
       "      <th>ipw</th>\n",
       "      <th>aipw</th>\n",
       "    </tr>\n",
       "  </thead>\n",
       "  <tbody>\n",
       "    <tr>\n",
       "      <th>bias</th>\n",
       "      <td>0.003401</td>\n",
       "      <td>-0.011995</td>\n",
       "      <td>0.007092</td>\n",
       "      <td>0.004379</td>\n",
       "    </tr>\n",
       "    <tr>\n",
       "      <th>true se</th>\n",
       "      <td>0.103634</td>\n",
       "      <td>0.328331</td>\n",
       "      <td>0.287792</td>\n",
       "      <td>0.119786</td>\n",
       "    </tr>\n",
       "    <tr>\n",
       "      <th>est se</th>\n",
       "      <td>0.104140</td>\n",
       "      <td>0.266542</td>\n",
       "      <td>0.232376</td>\n",
       "      <td>0.119668</td>\n",
       "    </tr>\n",
       "  </tbody>\n",
       "</table>\n",
       "</div>"
      ],
      "text/plain": [
       "             omod      ipw0       ipw      aipw\n",
       "bias     0.003401 -0.011995  0.007092  0.004379\n",
       "true se  0.103634  0.328331  0.287792  0.119786\n",
       "est se   0.104140  0.266542  0.232376  0.119668"
      ]
     },
     "execution_count": 23,
     "metadata": {},
     "output_type": "execute_result"
    }
   ],
   "source": [
    "simstudy(simu11, 500)"
   ]
  },
  {
   "cell_type": "markdown",
   "metadata": {},
   "source": [
    "bad pscore"
   ]
  },
  {
   "cell_type": "code",
   "execution_count": 24,
   "metadata": {},
   "outputs": [
    {
     "data": {
      "text/html": [
       "<div>\n",
       "<style scoped>\n",
       "    .dataframe tbody tr th:only-of-type {\n",
       "        vertical-align: middle;\n",
       "    }\n",
       "\n",
       "    .dataframe tbody tr th {\n",
       "        vertical-align: top;\n",
       "    }\n",
       "\n",
       "    .dataframe thead th {\n",
       "        text-align: right;\n",
       "    }\n",
       "</style>\n",
       "<table border=\"1\" class=\"dataframe\">\n",
       "  <thead>\n",
       "    <tr style=\"text-align: right;\">\n",
       "      <th></th>\n",
       "      <th>omod</th>\n",
       "      <th>ipw0</th>\n",
       "      <th>ipw</th>\n",
       "      <th>aipw</th>\n",
       "    </tr>\n",
       "  </thead>\n",
       "  <tbody>\n",
       "    <tr>\n",
       "      <th>bias</th>\n",
       "      <td>0.006553</td>\n",
       "      <td>-0.786128</td>\n",
       "      <td>-0.746743</td>\n",
       "      <td>-0.002292</td>\n",
       "    </tr>\n",
       "    <tr>\n",
       "      <th>true se</th>\n",
       "      <td>0.129372</td>\n",
       "      <td>0.762854</td>\n",
       "      <td>0.535186</td>\n",
       "      <td>0.209539</td>\n",
       "    </tr>\n",
       "    <tr>\n",
       "      <th>est se</th>\n",
       "      <td>0.126473</td>\n",
       "      <td>0.548638</td>\n",
       "      <td>0.386802</td>\n",
       "      <td>0.187415</td>\n",
       "    </tr>\n",
       "  </tbody>\n",
       "</table>\n",
       "</div>"
      ],
      "text/plain": [
       "             omod      ipw0       ipw      aipw\n",
       "bias     0.006553 -0.786128 -0.746743 -0.002292\n",
       "true se  0.129372  0.762854  0.535186  0.209539\n",
       "est se   0.126473  0.548638  0.386802  0.187415"
      ]
     },
     "execution_count": 24,
     "metadata": {},
     "output_type": "execute_result"
    }
   ],
   "source": [
    "simstudy(simu01, 500)"
   ]
  },
  {
   "cell_type": "markdown",
   "metadata": {},
   "source": [
    "bad omod"
   ]
  },
  {
   "cell_type": "code",
   "execution_count": 25,
   "metadata": {},
   "outputs": [
    {
     "data": {
      "text/html": [
       "<div>\n",
       "<style scoped>\n",
       "    .dataframe tbody tr th:only-of-type {\n",
       "        vertical-align: middle;\n",
       "    }\n",
       "\n",
       "    .dataframe tbody tr th {\n",
       "        vertical-align: top;\n",
       "    }\n",
       "\n",
       "    .dataframe thead th {\n",
       "        text-align: right;\n",
       "    }\n",
       "</style>\n",
       "<table border=\"1\" class=\"dataframe\">\n",
       "  <thead>\n",
       "    <tr style=\"text-align: right;\">\n",
       "      <th></th>\n",
       "      <th>omod</th>\n",
       "      <th>ipw0</th>\n",
       "      <th>ipw</th>\n",
       "      <th>aipw</th>\n",
       "    </tr>\n",
       "  </thead>\n",
       "  <tbody>\n",
       "    <tr>\n",
       "      <th>bias</th>\n",
       "      <td>-0.052806</td>\n",
       "      <td>-0.002581</td>\n",
       "      <td>0.000006</td>\n",
       "      <td>0.000859</td>\n",
       "    </tr>\n",
       "    <tr>\n",
       "      <th>true se</th>\n",
       "      <td>0.114374</td>\n",
       "      <td>0.164134</td>\n",
       "      <td>0.154160</td>\n",
       "      <td>0.155509</td>\n",
       "    </tr>\n",
       "    <tr>\n",
       "      <th>est se</th>\n",
       "      <td>0.112447</td>\n",
       "      <td>0.148546</td>\n",
       "      <td>0.135525</td>\n",
       "      <td>0.137609</td>\n",
       "    </tr>\n",
       "  </tbody>\n",
       "</table>\n",
       "</div>"
      ],
      "text/plain": [
       "             omod      ipw0       ipw      aipw\n",
       "bias    -0.052806 -0.002581  0.000006  0.000859\n",
       "true se  0.114374  0.164134  0.154160  0.155509\n",
       "est se   0.112447  0.148546  0.135525  0.137609"
      ]
     },
     "execution_count": 25,
     "metadata": {},
     "output_type": "execute_result"
    }
   ],
   "source": [
    "simstudy(simu10, 500, truth=0.2 * np.exp(1 / 2))"
   ]
  },
  {
   "cell_type": "markdown",
   "metadata": {},
   "source": [
    "both bad"
   ]
  },
  {
   "cell_type": "code",
   "execution_count": 26,
   "metadata": {},
   "outputs": [
    {
     "data": {
      "text/html": [
       "<div>\n",
       "<style scoped>\n",
       "    .dataframe tbody tr th:only-of-type {\n",
       "        vertical-align: middle;\n",
       "    }\n",
       "\n",
       "    .dataframe tbody tr th {\n",
       "        vertical-align: top;\n",
       "    }\n",
       "\n",
       "    .dataframe thead th {\n",
       "        text-align: right;\n",
       "    }\n",
       "</style>\n",
       "<table border=\"1\" class=\"dataframe\">\n",
       "  <thead>\n",
       "    <tr style=\"text-align: right;\">\n",
       "      <th></th>\n",
       "      <th>omod</th>\n",
       "      <th>ipw0</th>\n",
       "      <th>ipw</th>\n",
       "      <th>aipw</th>\n",
       "    </tr>\n",
       "  </thead>\n",
       "  <tbody>\n",
       "    <tr>\n",
       "      <th>bias</th>\n",
       "      <td>-0.072704</td>\n",
       "      <td>0.089918</td>\n",
       "      <td>-0.071039</td>\n",
       "      <td>0.133596</td>\n",
       "    </tr>\n",
       "    <tr>\n",
       "      <th>true se</th>\n",
       "      <td>0.125404</td>\n",
       "      <td>0.250922</td>\n",
       "      <td>0.188995</td>\n",
       "      <td>0.258324</td>\n",
       "    </tr>\n",
       "    <tr>\n",
       "      <th>est se</th>\n",
       "      <td>0.125969</td>\n",
       "      <td>0.226154</td>\n",
       "      <td>0.157942</td>\n",
       "      <td>0.222932</td>\n",
       "    </tr>\n",
       "  </tbody>\n",
       "</table>\n",
       "</div>"
      ],
      "text/plain": [
       "             omod      ipw0       ipw      aipw\n",
       "bias    -0.072704  0.089918 -0.071039  0.133596\n",
       "true se  0.125404  0.250922  0.188995  0.258324\n",
       "est se   0.125969  0.226154  0.157942  0.222932"
      ]
     },
     "execution_count": 26,
     "metadata": {},
     "output_type": "execute_result"
    }
   ],
   "source": [
    "simstudy(simu00, 500, truth=0.2 * np.exp(1 / 2))"
   ]
  },
  {
   "cell_type": "markdown",
   "metadata": {},
   "source": [
    "AIPW has the worst bias and variance when both are bad, verifying the Kang and Schafer (2007) result."
   ]
  },
  {
   "cell_type": "markdown",
   "metadata": {},
   "source": [
    "## application"
   ]
  },
  {
   "cell_type": "code",
   "execution_count": 27,
   "metadata": {},
   "outputs": [],
   "source": [
    "from sklearn.preprocessing import MinMaxScaler"
   ]
  },
  {
   "cell_type": "code",
   "execution_count": 28,
   "metadata": {},
   "outputs": [
    {
     "data": {
      "text/html": [
       "<div>\n",
       "<style scoped>\n",
       "    .dataframe tbody tr th:only-of-type {\n",
       "        vertical-align: middle;\n",
       "    }\n",
       "\n",
       "    .dataframe tbody tr th {\n",
       "        vertical-align: top;\n",
       "    }\n",
       "\n",
       "    .dataframe thead th {\n",
       "        text-align: right;\n",
       "    }\n",
       "</style>\n",
       "<table border=\"1\" class=\"dataframe\">\n",
       "  <thead>\n",
       "    <tr style=\"text-align: right;\">\n",
       "      <th></th>\n",
       "      <th>BMI</th>\n",
       "      <th>School_meal</th>\n",
       "      <th>age</th>\n",
       "      <th>ChildSex</th>\n",
       "      <th>black</th>\n",
       "      <th>mexam</th>\n",
       "      <th>pir200_plus</th>\n",
       "      <th>WIC</th>\n",
       "      <th>Food_Stamp</th>\n",
       "      <th>fsdchbi</th>\n",
       "      <th>AnyIns</th>\n",
       "      <th>RefSex</th>\n",
       "      <th>RefAge</th>\n",
       "    </tr>\n",
       "  </thead>\n",
       "  <tbody>\n",
       "    <tr>\n",
       "      <th>0</th>\n",
       "      <td>15.18</td>\n",
       "      <td>0</td>\n",
       "      <td>6</td>\n",
       "      <td>0</td>\n",
       "      <td>0</td>\n",
       "      <td>0</td>\n",
       "      <td>1</td>\n",
       "      <td>0</td>\n",
       "      <td>0</td>\n",
       "      <td>0</td>\n",
       "      <td>1</td>\n",
       "      <td>1</td>\n",
       "      <td>51</td>\n",
       "    </tr>\n",
       "    <tr>\n",
       "      <th>1</th>\n",
       "      <td>17.93</td>\n",
       "      <td>0</td>\n",
       "      <td>6</td>\n",
       "      <td>1</td>\n",
       "      <td>0</td>\n",
       "      <td>1</td>\n",
       "      <td>0</td>\n",
       "      <td>1</td>\n",
       "      <td>0</td>\n",
       "      <td>1</td>\n",
       "      <td>1</td>\n",
       "      <td>1</td>\n",
       "      <td>27</td>\n",
       "    </tr>\n",
       "    <tr>\n",
       "      <th>2</th>\n",
       "      <td>15.15</td>\n",
       "      <td>1</td>\n",
       "      <td>5</td>\n",
       "      <td>1</td>\n",
       "      <td>0</td>\n",
       "      <td>1</td>\n",
       "      <td>0</td>\n",
       "      <td>0</td>\n",
       "      <td>0</td>\n",
       "      <td>0</td>\n",
       "      <td>0</td>\n",
       "      <td>0</td>\n",
       "      <td>24</td>\n",
       "    </tr>\n",
       "    <tr>\n",
       "      <th>3</th>\n",
       "      <td>15.69</td>\n",
       "      <td>1</td>\n",
       "      <td>11</td>\n",
       "      <td>0</td>\n",
       "      <td>0</td>\n",
       "      <td>0</td>\n",
       "      <td>0</td>\n",
       "      <td>0</td>\n",
       "      <td>0</td>\n",
       "      <td>0</td>\n",
       "      <td>1</td>\n",
       "      <td>1</td>\n",
       "      <td>44</td>\n",
       "    </tr>\n",
       "    <tr>\n",
       "      <th>4</th>\n",
       "      <td>37.40</td>\n",
       "      <td>0</td>\n",
       "      <td>14</td>\n",
       "      <td>0</td>\n",
       "      <td>0</td>\n",
       "      <td>1</td>\n",
       "      <td>0</td>\n",
       "      <td>0</td>\n",
       "      <td>0</td>\n",
       "      <td>0</td>\n",
       "      <td>0</td>\n",
       "      <td>0</td>\n",
       "      <td>48</td>\n",
       "    </tr>\n",
       "  </tbody>\n",
       "</table>\n",
       "</div>"
      ],
      "text/plain": [
       "     BMI  School_meal  age  ChildSex  black  mexam  pir200_plus  WIC  \\\n",
       "0  15.18            0    6         0      0      0            1    0   \n",
       "1  17.93            0    6         1      0      1            0    1   \n",
       "2  15.15            1    5         1      0      1            0    0   \n",
       "3  15.69            1   11         0      0      0            0    0   \n",
       "4  37.40            0   14         0      0      1            0    0   \n",
       "\n",
       "   Food_Stamp  fsdchbi  AnyIns  RefSex  RefAge  \n",
       "0           0        0       1       1      51  \n",
       "1           0        1       1       1      27  \n",
       "2           0        0       0       0      24  \n",
       "3           0        0       1       1      44  \n",
       "4           0        0       0       0      48  "
      ]
     },
     "execution_count": 28,
     "metadata": {},
     "output_type": "execute_result"
    }
   ],
   "source": [
    "nhanes_bmi = pd.read_csv(\"nhanes_bmi.csv\").iloc[:, 1:]\n",
    "nhanes_bmi.head()"
   ]
  },
  {
   "cell_type": "code",
   "execution_count": 29,
   "metadata": {},
   "outputs": [],
   "source": [
    "z, y, x = (\n",
    "    nhanes_bmi.School_meal,\n",
    "    nhanes_bmi.BMI,\n",
    "    MinMaxScaler().fit_transform(X=nhanes_bmi.iloc[:, 2:].values),\n",
    ")"
   ]
  },
  {
   "cell_type": "code",
   "execution_count": 30,
   "metadata": {},
   "outputs": [
    {
     "data": {
      "text/html": [
       "<div>\n",
       "<style scoped>\n",
       "    .dataframe tbody tr th:only-of-type {\n",
       "        vertical-align: middle;\n",
       "    }\n",
       "\n",
       "    .dataframe tbody tr th {\n",
       "        vertical-align: top;\n",
       "    }\n",
       "\n",
       "    .dataframe thead th {\n",
       "        text-align: right;\n",
       "    }\n",
       "</style>\n",
       "<table border=\"1\" class=\"dataframe\">\n",
       "  <thead>\n",
       "    <tr style=\"text-align: right;\">\n",
       "      <th></th>\n",
       "      <th>omod</th>\n",
       "      <th>ipw0</th>\n",
       "      <th>ipw</th>\n",
       "      <th>aipw</th>\n",
       "    </tr>\n",
       "  </thead>\n",
       "  <tbody>\n",
       "    <tr>\n",
       "      <th>point_est</th>\n",
       "      <td>-0.016954</td>\n",
       "      <td>-1.516536</td>\n",
       "      <td>-0.155755</td>\n",
       "      <td>-0.019291</td>\n",
       "    </tr>\n",
       "    <tr>\n",
       "      <th>boot_se</th>\n",
       "      <td>0.227012</td>\n",
       "      <td>0.484243</td>\n",
       "      <td>0.246763</td>\n",
       "      <td>0.230823</td>\n",
       "    </tr>\n",
       "  </tbody>\n",
       "</table>\n",
       "</div>"
      ],
      "text/plain": [
       "               omod      ipw0       ipw      aipw\n",
       "point_est -0.016954 -1.516536 -0.155755 -0.019291\n",
       "boot_se    0.227012  0.484243  0.246763  0.230823"
      ]
     },
     "execution_count": 30,
     "metadata": {},
     "output_type": "execute_result"
    }
   ],
   "source": [
    "(causaleffects := OS_ATE(z.values, y.values, x, n_boot=1e3))"
   ]
  },
  {
   "cell_type": "code",
   "execution_count": 32,
   "metadata": {},
   "outputs": [
    {
     "data": {
      "text/html": [
       "<div>\n",
       "<style scoped>\n",
       "    .dataframe tbody tr th:only-of-type {\n",
       "        vertical-align: middle;\n",
       "    }\n",
       "\n",
       "    .dataframe tbody tr th {\n",
       "        vertical-align: top;\n",
       "    }\n",
       "\n",
       "    .dataframe thead th {\n",
       "        text-align: right;\n",
       "    }\n",
       "</style>\n",
       "<table border=\"1\" class=\"dataframe\">\n",
       "  <thead>\n",
       "    <tr style=\"text-align: right;\">\n",
       "      <th></th>\n",
       "      <th>omod</th>\n",
       "      <th>ipw0</th>\n",
       "      <th>ipw</th>\n",
       "      <th>aipw</th>\n",
       "    </tr>\n",
       "  </thead>\n",
       "  <tbody>\n",
       "    <tr>\n",
       "      <th>point_est</th>\n",
       "      <td>-0.016954</td>\n",
       "      <td>-0.713539</td>\n",
       "      <td>-0.053634</td>\n",
       "      <td>-0.043381</td>\n",
       "    </tr>\n",
       "    <tr>\n",
       "      <th>boot_se</th>\n",
       "      <td>0.225728</td>\n",
       "      <td>0.490854</td>\n",
       "      <td>0.239052</td>\n",
       "      <td>0.229507</td>\n",
       "    </tr>\n",
       "  </tbody>\n",
       "</table>\n",
       "</div>"
      ],
      "text/plain": [
       "               omod      ipw0       ipw      aipw\n",
       "point_est -0.016954 -0.713539 -0.053634 -0.043381\n",
       "boot_se    0.225728  0.490854  0.239052  0.229507"
      ]
     },
     "execution_count": 32,
     "metadata": {},
     "output_type": "execute_result"
    }
   ],
   "source": [
    "(causaleffects2 := OS_ATE(z.values, y.values, x, n_boot=1e3, truncps=(0.1, 0.9)))"
   ]
  }
 ],
 "metadata": {
  "kernelspec": {
   "display_name": "metrics",
   "language": "python",
   "name": "python3"
  },
  "language_info": {
   "codemirror_mode": {
    "name": "ipython",
    "version": 3
   },
   "file_extension": ".py",
   "mimetype": "text/x-python",
   "name": "python",
   "nbconvert_exporter": "python",
   "pygments_lexer": "ipython3",
   "version": "3.11.5"
  }
 },
 "nbformat": 4,
 "nbformat_minor": 2
}
