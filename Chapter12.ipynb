{
 "cells": [
  {
   "cell_type": "markdown",
   "metadata": {},
   "source": [
    "# Chapter 12: The Doubly Robust or the Augmented Inverse Probability Score Weighting Estimator for the Average Causal Effect"
   ]
  },
  {
   "cell_type": "code",
   "execution_count": 1,
   "metadata": {},
   "outputs": [
    {
     "name": "stdout",
     "output_type": "stream",
     "text": [
      "seaborn          : 0.12.2\n",
      "matplotlib       : 3.7.2\n",
      "matplotlib_inline: 0.1.6\n",
      "statsmodels      : 0.14.0\n",
      "sklearn          : 1.2.2\n",
      "numpy            : 1.24.3\n",
      "pandas           : 2.0.3\n",
      "\n"
     ]
    }
   ],
   "source": [
    "from joblib import Parallel, delayed\n",
    "\n",
    "import numpy as np\n",
    "import pandas as pd\n",
    "import statsmodels.api as sm\n",
    "import matplotlib.pyplot as plt\n",
    "import seaborn as sns\n",
    "import sklearn as skl\n",
    "\n",
    "font = {'family' : 'IBM Plex Sans Condensed',\n",
    "               'weight' : 'normal',\n",
    "               'size'   : 10}\n",
    "plt.rc('font', **font)\n",
    "plt.rcParams['figure.figsize'] = (6, 6)\n",
    "%matplotlib inline\n",
    "%config InlineBackend.figure_format = 'retina'\n",
    "\n",
    "np.random.seed(42)\n",
    "%load_ext autoreload\n",
    "%autoreload 1\n",
    "\n",
    "%load_ext watermark\n",
    "%watermark --iversions\n",
    "\n"
   ]
  },
  {
   "cell_type": "code",
   "execution_count": 2,
   "metadata": {},
   "outputs": [],
   "source": [
    "def OS_est(\n",
    "    z,\n",
    "    y,\n",
    "    x,\n",
    "    omod,\n",
    "    pmod,\n",
    "    lb = 0, ub = 1\n",
    "):\n",
    "    pscore = pmod.fit(x, z).predict_proba(x)[:, 1]\n",
    "    pscore = np.clip(pscore, lb, ub)\n",
    "    # fitted potential outcomes\n",
    "    outcome1 = omod.fit(x[z == 1, :], y[z == 1]).predict(x)\n",
    "    outcome0 = omod.fit(x[z == 0, :], y[z == 0]).predict(x)\n",
    "    # omod\n",
    "    ace_reg = (outcome1 - outcome0).mean()\n",
    "    # ipw\n",
    "    y_treat = (y * z / pscore).mean()\n",
    "    y_control = (y * (1 - z) / (1 - pscore)).mean()\n",
    "    one_treat = (z / pscore).mean()\n",
    "    one_control = ((1 - z) / (1 - pscore)).mean()\n",
    "    ace_ipw0 = y_treat - y_control\n",
    "    ace_ipw = y_treat / one_treat - y_control / one_control\n",
    "    # aipw\n",
    "    r_treat, r_control = (\n",
    "        (z * (y - outcome1) / pscore).mean(),\n",
    "        ((1 - z) * (y - outcome0) / (1 - pscore)).mean(),\n",
    "    )\n",
    "    ace_dr = ace_reg + r_treat - r_control\n",
    "    return np.array([ace_reg, ace_ipw0, ace_ipw, ace_dr])\n"
   ]
  },
  {
   "cell_type": "code",
   "execution_count": 3,
   "metadata": {},
   "outputs": [],
   "source": [
    "from sklearn.linear_model import LogisticRegression, LinearRegression\n",
    "lmod, omod = LogisticRegression(penalty = None), LinearRegression()\n"
   ]
  },
  {
   "cell_type": "code",
   "execution_count": 4,
   "metadata": {},
   "outputs": [],
   "source": [
    "def OS_ATE(z, y, x, omod=omod, pmod=lmod, n_boot=2 * 1e2, truncps = (0, 1)):\n",
    "    point_est = OS_est(z, y, x, omod, pmod, *truncps)\n",
    "    # nonparametric bootstrap\n",
    "    samp = lambda x: skl.utils.resample(x, replace=True, n_samples=len(x))\n",
    "    boot_est = Parallel(n_jobs=-1)(\n",
    "        delayed(OS_est)(samp(z), samp(y), samp(x), omod, pmod) for _ in range(int(n_boot))\n",
    "    )\n",
    "    boot_est = np.vstack(boot_est)\n",
    "    # return boot_est\n",
    "    boot_se = boot_est.std(axis=0)\n",
    "\n",
    "    res = pd.DataFrame(\n",
    "        [point_est, boot_se],\n",
    "        index=[\"point_est\", \"boot_se\"],\n",
    "        columns=[\"omod\", \"ipw0\", \"ipw\", \"aipw\"],\n",
    "    )\n",
    "    return res\n"
   ]
  },
  {
   "cell_type": "code",
   "execution_count": 5,
   "metadata": {},
   "outputs": [
    {
     "data": {
      "text/plain": [
       "array([ 0.        ,  0.03910975, -0.08010026, -0.04221151,  0.03727168,\n",
       "        0.22095922,  0.22120737,  0.22121034,  0.22118967])"
      ]
     },
     "execution_count": 5,
     "metadata": {},
     "output_type": "execute_result"
    }
   ],
   "source": [
    "def simu11(n = 500):\n",
    "    x = np.random.normal(size = (n, 2))\n",
    "    x1 = np.c_[np.ones(n), x]\n",
    "    beta_z = np.array([0, 1, 1])\n",
    "    pscore = 1/(1+np.exp(-x1 @ beta_z))\n",
    "    z = np.random.binomial(1, pscore)\n",
    "    beta_y1, beta_y0 = np.array([1, 2, 1]), np.array([1, 2, 1])\n",
    "    y1, y0 = x1 @ beta_y1, x1 @ beta_y0\n",
    "    y = z * y1 + (1-z) * y0 + np.random.normal(size = n)\n",
    "    ce = OS_ATE(z, y, x)\n",
    "    return np.r_[(y1 - y0).mean(), ce.iloc[0, :], ce.iloc[1, :]]\n",
    "\n",
    "simu11()\n"
   ]
  },
  {
   "cell_type": "code",
   "execution_count": 6,
   "metadata": {},
   "outputs": [
    {
     "data": {
      "text/plain": [
       "array([ 0.01557261, -0.0198599 , -0.96285837, -0.91644986, -0.03406536,\n",
       "        0.20497719,  0.20478523,  0.20483473,  0.20474512])"
      ]
     },
     "execution_count": 6,
     "metadata": {},
     "output_type": "execute_result"
    }
   ],
   "source": [
    "def simu01(n = 500):\n",
    "    x = np.random.normal(size = (n, 2))\n",
    "    x1 = np.c_[np.ones(n), x, np.exp(x)]\n",
    "    beta_z = np.array([-1, 0, 0, 1, -1])\n",
    "    pscore = 1/(1+np.exp(-x1 @ beta_z))\n",
    "    z = np.random.binomial(1, pscore)\n",
    "    beta_y1, beta_y0 = np.array([1, 2, 1, 0, 0]), np.array([1, 1, 1, 0, 0])\n",
    "    y1, y0 = x1 @ beta_y1, x1 @ beta_y0\n",
    "    y = z * y1 + (1-z) * y0 + np.random.normal(size = n)\n",
    "    ce = OS_ATE(z, y, x)\n",
    "    return np.r_[(y1 - y0).mean(), ce.iloc[0, :], ce.iloc[1, :]]\n",
    "\n",
    "simu01()\n"
   ]
  },
  {
   "cell_type": "code",
   "execution_count": 7,
   "metadata": {},
   "outputs": [
    {
     "data": {
      "text/plain": [
       "array([0.27131018, 0.35487477, 0.45546237, 0.45953136, 0.43687853,\n",
       "       0.10453037, 0.10446448, 0.10446066, 0.10451951])"
      ]
     },
     "execution_count": 7,
     "metadata": {},
     "output_type": "execute_result"
    }
   ],
   "source": [
    "def simu10(n = 500):\n",
    "    x = np.random.normal(size = (n, 2))\n",
    "    x1 = np.c_[np.ones(n), x, np.exp(x)]\n",
    "    beta_z = np.array([0, 1, 1, 0, 0])\n",
    "    pscore = 1/(1+np.exp(-x1 @ beta_z))\n",
    "    z = np.random.binomial(1, pscore)\n",
    "    beta_y1, beta_y0 = np.array([1, 0, 0, 0.2, -0.1]), np.array([1, 0, 0, -0.2, 0.1])\n",
    "    y1, y0 = x1 @ beta_y1, x1 @ beta_y0\n",
    "    y = z * y1 + (1-z) * y0 + np.random.normal(size = n)\n",
    "    ce = OS_ATE(z, y, x)\n",
    "    return np.r_[(y1 - y0).mean(), ce.iloc[0, :], ce.iloc[1, :]]\n",
    "\n",
    "simu10()\n"
   ]
  },
  {
   "cell_type": "code",
   "execution_count": 8,
   "metadata": {},
   "outputs": [
    {
     "data": {
      "text/plain": [
       "array([0.35174471, 0.44211447, 0.56073027, 0.54395967, 0.58812764,\n",
       "       0.10104513, 0.10104914, 0.1009669 , 0.10102134])"
      ]
     },
     "execution_count": 8,
     "metadata": {},
     "output_type": "execute_result"
    }
   ],
   "source": [
    "def simu00(n = 500):\n",
    "    x = np.random.normal(size = (n, 2))\n",
    "    x1 = np.c_[np.ones(n), x, np.exp(x)]\n",
    "    beta_z = np.array([-1, 0, 0, 1, -1])\n",
    "    pscore = 1/(1+np.exp(-x1 @ beta_z))\n",
    "    z = np.random.binomial(1, pscore)\n",
    "    beta_y1, beta_y0 = np.array([1, 0, 0, 0.2, -0.1]), np.array([1, 0, 0, -0.2, 0.1])\n",
    "    y1, y0 = x1 @ beta_y1, x1 @ beta_y0\n",
    "    y = z * y1 + (1-z) * y0 + np.random.normal(size = n)\n",
    "    ce = OS_ATE(z, y, x)\n",
    "    return np.r_[(y1 - y0).mean(), ce.iloc[0, :], ce.iloc[1, :]]\n",
    "\n",
    "simu00()\n"
   ]
  },
  {
   "cell_type": "code",
   "execution_count": 9,
   "metadata": {},
   "outputs": [],
   "source": [
    "def simstudy(f, n, truth = 0):\n",
    "    est = [f() for _ in range(n)]\n",
    "    est = np.vstack(est)\n",
    "\n",
    "    bias = (est[:, 1:5] - truth)\n",
    "    return pd.DataFrame([\n",
    "        bias.mean(axis = 0),\n",
    "        bias.std(axis = 0),\n",
    "        est[:, 5:].mean(axis = 0)\n",
    "    ], index = ['bias', 'true se', 'est se'], columns = ['omod', 'ipw0', 'ipw', 'aipw'])\n"
   ]
  },
  {
   "cell_type": "markdown",
   "metadata": {},
   "source": [
    "Both well specified"
   ]
  },
  {
   "cell_type": "code",
   "execution_count": 10,
   "metadata": {},
   "outputs": [
    {
     "data": {
      "text/html": [
       "<div>\n",
       "<style scoped>\n",
       "    .dataframe tbody tr th:only-of-type {\n",
       "        vertical-align: middle;\n",
       "    }\n",
       "\n",
       "    .dataframe tbody tr th {\n",
       "        vertical-align: top;\n",
       "    }\n",
       "\n",
       "    .dataframe thead th {\n",
       "        text-align: right;\n",
       "    }\n",
       "</style>\n",
       "<table border=\"1\" class=\"dataframe\">\n",
       "  <thead>\n",
       "    <tr style=\"text-align: right;\">\n",
       "      <th></th>\n",
       "      <th>omod</th>\n",
       "      <th>ipw0</th>\n",
       "      <th>ipw</th>\n",
       "      <th>aipw</th>\n",
       "    </tr>\n",
       "  </thead>\n",
       "  <tbody>\n",
       "    <tr>\n",
       "      <th>bias</th>\n",
       "      <td>0.006143</td>\n",
       "      <td>0.025104</td>\n",
       "      <td>0.045253</td>\n",
       "      <td>0.011817</td>\n",
       "    </tr>\n",
       "    <tr>\n",
       "      <th>true se</th>\n",
       "      <td>0.106274</td>\n",
       "      <td>0.284053</td>\n",
       "      <td>0.254586</td>\n",
       "      <td>0.124420</td>\n",
       "    </tr>\n",
       "    <tr>\n",
       "      <th>est se</th>\n",
       "      <td>0.219485</td>\n",
       "      <td>0.219487</td>\n",
       "      <td>0.219486</td>\n",
       "      <td>0.219486</td>\n",
       "    </tr>\n",
       "  </tbody>\n",
       "</table>\n",
       "</div>"
      ],
      "text/plain": [
       "             omod      ipw0       ipw      aipw\n",
       "bias     0.006143  0.025104  0.045253  0.011817\n",
       "true se  0.106274  0.284053  0.254586  0.124420\n",
       "est se   0.219485  0.219487  0.219486  0.219486"
      ]
     },
     "execution_count": 10,
     "metadata": {},
     "output_type": "execute_result"
    }
   ],
   "source": [
    "simstudy(simu11, 500)\n"
   ]
  },
  {
   "cell_type": "markdown",
   "metadata": {},
   "source": [
    "bad pscore"
   ]
  },
  {
   "cell_type": "code",
   "execution_count": 11,
   "metadata": {},
   "outputs": [
    {
     "data": {
      "text/html": [
       "<div>\n",
       "<style scoped>\n",
       "    .dataframe tbody tr th:only-of-type {\n",
       "        vertical-align: middle;\n",
       "    }\n",
       "\n",
       "    .dataframe tbody tr th {\n",
       "        vertical-align: top;\n",
       "    }\n",
       "\n",
       "    .dataframe thead th {\n",
       "        text-align: right;\n",
       "    }\n",
       "</style>\n",
       "<table border=\"1\" class=\"dataframe\">\n",
       "  <thead>\n",
       "    <tr style=\"text-align: right;\">\n",
       "      <th></th>\n",
       "      <th>omod</th>\n",
       "      <th>ipw0</th>\n",
       "      <th>ipw</th>\n",
       "      <th>aipw</th>\n",
       "    </tr>\n",
       "  </thead>\n",
       "  <tbody>\n",
       "    <tr>\n",
       "      <th>bias</th>\n",
       "      <td>0.002886</td>\n",
       "      <td>-0.833264</td>\n",
       "      <td>-0.776827</td>\n",
       "      <td>0.012587</td>\n",
       "    </tr>\n",
       "    <tr>\n",
       "      <th>true se</th>\n",
       "      <td>0.123799</td>\n",
       "      <td>0.878363</td>\n",
       "      <td>0.567909</td>\n",
       "      <td>0.243940</td>\n",
       "    </tr>\n",
       "    <tr>\n",
       "      <th>est se</th>\n",
       "      <td>0.193665</td>\n",
       "      <td>0.193679</td>\n",
       "      <td>0.193675</td>\n",
       "      <td>0.193682</td>\n",
       "    </tr>\n",
       "  </tbody>\n",
       "</table>\n",
       "</div>"
      ],
      "text/plain": [
       "             omod      ipw0       ipw      aipw\n",
       "bias     0.002886 -0.833264 -0.776827  0.012587\n",
       "true se  0.123799  0.878363  0.567909  0.243940\n",
       "est se   0.193665  0.193679  0.193675  0.193682"
      ]
     },
     "execution_count": 11,
     "metadata": {},
     "output_type": "execute_result"
    }
   ],
   "source": [
    "simstudy(simu01, 500)\n"
   ]
  },
  {
   "cell_type": "markdown",
   "metadata": {},
   "source": [
    "bad omod"
   ]
  },
  {
   "cell_type": "code",
   "execution_count": 12,
   "metadata": {},
   "outputs": [
    {
     "data": {
      "text/html": [
       "<div>\n",
       "<style scoped>\n",
       "    .dataframe tbody tr th:only-of-type {\n",
       "        vertical-align: middle;\n",
       "    }\n",
       "\n",
       "    .dataframe tbody tr th {\n",
       "        vertical-align: top;\n",
       "    }\n",
       "\n",
       "    .dataframe thead th {\n",
       "        text-align: right;\n",
       "    }\n",
       "</style>\n",
       "<table border=\"1\" class=\"dataframe\">\n",
       "  <thead>\n",
       "    <tr style=\"text-align: right;\">\n",
       "      <th></th>\n",
       "      <th>omod</th>\n",
       "      <th>ipw0</th>\n",
       "      <th>ipw</th>\n",
       "      <th>aipw</th>\n",
       "    </tr>\n",
       "  </thead>\n",
       "  <tbody>\n",
       "    <tr>\n",
       "      <th>bias</th>\n",
       "      <td>-0.048562</td>\n",
       "      <td>-0.002010</td>\n",
       "      <td>-0.001819</td>\n",
       "      <td>-0.003366</td>\n",
       "    </tr>\n",
       "    <tr>\n",
       "      <th>true se</th>\n",
       "      <td>0.108144</td>\n",
       "      <td>0.153458</td>\n",
       "      <td>0.139331</td>\n",
       "      <td>0.140287</td>\n",
       "    </tr>\n",
       "    <tr>\n",
       "      <th>est se</th>\n",
       "      <td>0.099832</td>\n",
       "      <td>0.099836</td>\n",
       "      <td>0.099830</td>\n",
       "      <td>0.099833</td>\n",
       "    </tr>\n",
       "  </tbody>\n",
       "</table>\n",
       "</div>"
      ],
      "text/plain": [
       "             omod      ipw0       ipw      aipw\n",
       "bias    -0.048562 -0.002010 -0.001819 -0.003366\n",
       "true se  0.108144  0.153458  0.139331  0.140287\n",
       "est se   0.099832  0.099836  0.099830  0.099833"
      ]
     },
     "execution_count": 12,
     "metadata": {},
     "output_type": "execute_result"
    }
   ],
   "source": [
    "simstudy(simu10, 500, truth = 0.2 * np.exp(1/2))\n"
   ]
  },
  {
   "cell_type": "markdown",
   "metadata": {},
   "source": [
    "both bad"
   ]
  },
  {
   "cell_type": "code",
   "execution_count": 13,
   "metadata": {},
   "outputs": [
    {
     "data": {
      "text/html": [
       "<div>\n",
       "<style scoped>\n",
       "    .dataframe tbody tr th:only-of-type {\n",
       "        vertical-align: middle;\n",
       "    }\n",
       "\n",
       "    .dataframe tbody tr th {\n",
       "        vertical-align: top;\n",
       "    }\n",
       "\n",
       "    .dataframe thead th {\n",
       "        text-align: right;\n",
       "    }\n",
       "</style>\n",
       "<table border=\"1\" class=\"dataframe\">\n",
       "  <thead>\n",
       "    <tr style=\"text-align: right;\">\n",
       "      <th></th>\n",
       "      <th>omod</th>\n",
       "      <th>ipw0</th>\n",
       "      <th>ipw</th>\n",
       "      <th>aipw</th>\n",
       "    </tr>\n",
       "  </thead>\n",
       "  <tbody>\n",
       "    <tr>\n",
       "      <th>bias</th>\n",
       "      <td>-0.069452</td>\n",
       "      <td>0.126688</td>\n",
       "      <td>-0.063211</td>\n",
       "      <td>0.172261</td>\n",
       "    </tr>\n",
       "    <tr>\n",
       "      <th>true se</th>\n",
       "      <td>0.129646</td>\n",
       "      <td>0.555496</td>\n",
       "      <td>0.194594</td>\n",
       "      <td>0.572000</td>\n",
       "    </tr>\n",
       "    <tr>\n",
       "      <th>est se</th>\n",
       "      <td>0.104664</td>\n",
       "      <td>0.104672</td>\n",
       "      <td>0.104665</td>\n",
       "      <td>0.104674</td>\n",
       "    </tr>\n",
       "  </tbody>\n",
       "</table>\n",
       "</div>"
      ],
      "text/plain": [
       "             omod      ipw0       ipw      aipw\n",
       "bias    -0.069452  0.126688 -0.063211  0.172261\n",
       "true se  0.129646  0.555496  0.194594  0.572000\n",
       "est se   0.104664  0.104672  0.104665  0.104674"
      ]
     },
     "execution_count": 13,
     "metadata": {},
     "output_type": "execute_result"
    }
   ],
   "source": [
    "simstudy(simu00, 500, truth = 0.2 * np.exp(1/2))\n"
   ]
  },
  {
   "cell_type": "markdown",
   "metadata": {},
   "source": [
    "AIPW has the worst bias and variance when both are bad, verifying the Kang and Schafer (2007) result."
   ]
  },
  {
   "cell_type": "markdown",
   "metadata": {},
   "source": [
    "## application"
   ]
  },
  {
   "cell_type": "code",
   "execution_count": 14,
   "metadata": {},
   "outputs": [],
   "source": [
    "from sklearn.preprocessing import MinMaxScaler\n"
   ]
  },
  {
   "cell_type": "code",
   "execution_count": 15,
   "metadata": {},
   "outputs": [
    {
     "data": {
      "text/html": [
       "<div>\n",
       "<style scoped>\n",
       "    .dataframe tbody tr th:only-of-type {\n",
       "        vertical-align: middle;\n",
       "    }\n",
       "\n",
       "    .dataframe tbody tr th {\n",
       "        vertical-align: top;\n",
       "    }\n",
       "\n",
       "    .dataframe thead th {\n",
       "        text-align: right;\n",
       "    }\n",
       "</style>\n",
       "<table border=\"1\" class=\"dataframe\">\n",
       "  <thead>\n",
       "    <tr style=\"text-align: right;\">\n",
       "      <th></th>\n",
       "      <th>BMI</th>\n",
       "      <th>School_meal</th>\n",
       "      <th>age</th>\n",
       "      <th>ChildSex</th>\n",
       "      <th>black</th>\n",
       "      <th>mexam</th>\n",
       "      <th>pir200_plus</th>\n",
       "      <th>WIC</th>\n",
       "      <th>Food_Stamp</th>\n",
       "      <th>fsdchbi</th>\n",
       "      <th>AnyIns</th>\n",
       "      <th>RefSex</th>\n",
       "      <th>RefAge</th>\n",
       "    </tr>\n",
       "  </thead>\n",
       "  <tbody>\n",
       "    <tr>\n",
       "      <th>0</th>\n",
       "      <td>15.18</td>\n",
       "      <td>0</td>\n",
       "      <td>6</td>\n",
       "      <td>0</td>\n",
       "      <td>0</td>\n",
       "      <td>0</td>\n",
       "      <td>1</td>\n",
       "      <td>0</td>\n",
       "      <td>0</td>\n",
       "      <td>0</td>\n",
       "      <td>1</td>\n",
       "      <td>1</td>\n",
       "      <td>51</td>\n",
       "    </tr>\n",
       "    <tr>\n",
       "      <th>1</th>\n",
       "      <td>17.93</td>\n",
       "      <td>0</td>\n",
       "      <td>6</td>\n",
       "      <td>1</td>\n",
       "      <td>0</td>\n",
       "      <td>1</td>\n",
       "      <td>0</td>\n",
       "      <td>1</td>\n",
       "      <td>0</td>\n",
       "      <td>1</td>\n",
       "      <td>1</td>\n",
       "      <td>1</td>\n",
       "      <td>27</td>\n",
       "    </tr>\n",
       "    <tr>\n",
       "      <th>2</th>\n",
       "      <td>15.15</td>\n",
       "      <td>1</td>\n",
       "      <td>5</td>\n",
       "      <td>1</td>\n",
       "      <td>0</td>\n",
       "      <td>1</td>\n",
       "      <td>0</td>\n",
       "      <td>0</td>\n",
       "      <td>0</td>\n",
       "      <td>0</td>\n",
       "      <td>0</td>\n",
       "      <td>0</td>\n",
       "      <td>24</td>\n",
       "    </tr>\n",
       "    <tr>\n",
       "      <th>3</th>\n",
       "      <td>15.69</td>\n",
       "      <td>1</td>\n",
       "      <td>11</td>\n",
       "      <td>0</td>\n",
       "      <td>0</td>\n",
       "      <td>0</td>\n",
       "      <td>0</td>\n",
       "      <td>0</td>\n",
       "      <td>0</td>\n",
       "      <td>0</td>\n",
       "      <td>1</td>\n",
       "      <td>1</td>\n",
       "      <td>44</td>\n",
       "    </tr>\n",
       "    <tr>\n",
       "      <th>4</th>\n",
       "      <td>37.40</td>\n",
       "      <td>0</td>\n",
       "      <td>14</td>\n",
       "      <td>0</td>\n",
       "      <td>0</td>\n",
       "      <td>1</td>\n",
       "      <td>0</td>\n",
       "      <td>0</td>\n",
       "      <td>0</td>\n",
       "      <td>0</td>\n",
       "      <td>0</td>\n",
       "      <td>0</td>\n",
       "      <td>48</td>\n",
       "    </tr>\n",
       "  </tbody>\n",
       "</table>\n",
       "</div>"
      ],
      "text/plain": [
       "     BMI  School_meal  age  ChildSex  black  mexam  pir200_plus  WIC  \\\n",
       "0  15.18            0    6         0      0      0            1    0   \n",
       "1  17.93            0    6         1      0      1            0    1   \n",
       "2  15.15            1    5         1      0      1            0    0   \n",
       "3  15.69            1   11         0      0      0            0    0   \n",
       "4  37.40            0   14         0      0      1            0    0   \n",
       "\n",
       "   Food_Stamp  fsdchbi  AnyIns  RefSex  RefAge  \n",
       "0           0        0       1       1      51  \n",
       "1           0        1       1       1      27  \n",
       "2           0        0       0       0      24  \n",
       "3           0        0       1       1      44  \n",
       "4           0        0       0       0      48  "
      ]
     },
     "execution_count": 15,
     "metadata": {},
     "output_type": "execute_result"
    }
   ],
   "source": [
    "nhanes_bmi = pd.read_csv('nhanes_bmi.csv').iloc[:, 1:]\n",
    "nhanes_bmi.head()\n"
   ]
  },
  {
   "cell_type": "code",
   "execution_count": 16,
   "metadata": {},
   "outputs": [],
   "source": [
    "z, y, x = nhanes_bmi.School_meal, nhanes_bmi.BMI, MinMaxScaler().fit_transform(X = nhanes_bmi.iloc[:, 2:].values)\n"
   ]
  },
  {
   "cell_type": "code",
   "execution_count": 17,
   "metadata": {},
   "outputs": [
    {
     "data": {
      "text/html": [
       "<div>\n",
       "<style scoped>\n",
       "    .dataframe tbody tr th:only-of-type {\n",
       "        vertical-align: middle;\n",
       "    }\n",
       "\n",
       "    .dataframe tbody tr th {\n",
       "        vertical-align: top;\n",
       "    }\n",
       "\n",
       "    .dataframe thead th {\n",
       "        text-align: right;\n",
       "    }\n",
       "</style>\n",
       "<table border=\"1\" class=\"dataframe\">\n",
       "  <thead>\n",
       "    <tr style=\"text-align: right;\">\n",
       "      <th></th>\n",
       "      <th>omod</th>\n",
       "      <th>ipw0</th>\n",
       "      <th>ipw</th>\n",
       "      <th>aipw</th>\n",
       "    </tr>\n",
       "  </thead>\n",
       "  <tbody>\n",
       "    <tr>\n",
       "      <th>point_est</th>\n",
       "      <td>-0.016954</td>\n",
       "      <td>-1.516536</td>\n",
       "      <td>-0.155755</td>\n",
       "      <td>-0.019291</td>\n",
       "    </tr>\n",
       "    <tr>\n",
       "      <th>boot_se</th>\n",
       "      <td>0.225514</td>\n",
       "      <td>0.225703</td>\n",
       "      <td>0.225484</td>\n",
       "      <td>0.225478</td>\n",
       "    </tr>\n",
       "  </tbody>\n",
       "</table>\n",
       "</div>"
      ],
      "text/plain": [
       "               omod      ipw0       ipw      aipw\n",
       "point_est -0.016954 -1.516536 -0.155755 -0.019291\n",
       "boot_se    0.225514  0.225703  0.225484  0.225478"
      ]
     },
     "execution_count": 17,
     "metadata": {},
     "output_type": "execute_result"
    }
   ],
   "source": [
    "(causaleffects := OS_ATE(z.values, y.values, x, n_boot=1e3))\n"
   ]
  },
  {
   "cell_type": "code",
   "execution_count": 18,
   "metadata": {},
   "outputs": [
    {
     "data": {
      "text/html": [
       "<div>\n",
       "<style scoped>\n",
       "    .dataframe tbody tr th:only-of-type {\n",
       "        vertical-align: middle;\n",
       "    }\n",
       "\n",
       "    .dataframe tbody tr th {\n",
       "        vertical-align: top;\n",
       "    }\n",
       "\n",
       "    .dataframe thead th {\n",
       "        text-align: right;\n",
       "    }\n",
       "</style>\n",
       "<table border=\"1\" class=\"dataframe\">\n",
       "  <thead>\n",
       "    <tr style=\"text-align: right;\">\n",
       "      <th></th>\n",
       "      <th>omod</th>\n",
       "      <th>ipw0</th>\n",
       "      <th>ipw</th>\n",
       "      <th>aipw</th>\n",
       "    </tr>\n",
       "  </thead>\n",
       "  <tbody>\n",
       "    <tr>\n",
       "      <th>point_est</th>\n",
       "      <td>-0.016954</td>\n",
       "      <td>-1.516536</td>\n",
       "      <td>-0.155755</td>\n",
       "      <td>-0.019291</td>\n",
       "    </tr>\n",
       "    <tr>\n",
       "      <th>boot_se</th>\n",
       "      <td>0.228794</td>\n",
       "      <td>0.228678</td>\n",
       "      <td>0.228683</td>\n",
       "      <td>0.228690</td>\n",
       "    </tr>\n",
       "  </tbody>\n",
       "</table>\n",
       "</div>"
      ],
      "text/plain": [
       "               omod      ipw0       ipw      aipw\n",
       "point_est -0.016954 -1.516536 -0.155755 -0.019291\n",
       "boot_se    0.228794  0.228678  0.228683  0.228690"
      ]
     },
     "execution_count": 18,
     "metadata": {},
     "output_type": "execute_result"
    }
   ],
   "source": [
    "(causaleffects := OS_ATE(z.values, y.values, x, n_boot=1e3))\n"
   ]
  },
  {
   "cell_type": "code",
   "execution_count": 19,
   "metadata": {},
   "outputs": [
    {
     "data": {
      "text/html": [
       "<div>\n",
       "<style scoped>\n",
       "    .dataframe tbody tr th:only-of-type {\n",
       "        vertical-align: middle;\n",
       "    }\n",
       "\n",
       "    .dataframe tbody tr th {\n",
       "        vertical-align: top;\n",
       "    }\n",
       "\n",
       "    .dataframe thead th {\n",
       "        text-align: right;\n",
       "    }\n",
       "</style>\n",
       "<table border=\"1\" class=\"dataframe\">\n",
       "  <thead>\n",
       "    <tr style=\"text-align: right;\">\n",
       "      <th></th>\n",
       "      <th>omod</th>\n",
       "      <th>ipw0</th>\n",
       "      <th>ipw</th>\n",
       "      <th>aipw</th>\n",
       "    </tr>\n",
       "  </thead>\n",
       "  <tbody>\n",
       "    <tr>\n",
       "      <th>point_est</th>\n",
       "      <td>-0.016954</td>\n",
       "      <td>-0.713539</td>\n",
       "      <td>-0.053634</td>\n",
       "      <td>-0.043381</td>\n",
       "    </tr>\n",
       "    <tr>\n",
       "      <th>boot_se</th>\n",
       "      <td>0.235140</td>\n",
       "      <td>0.235259</td>\n",
       "      <td>0.235090</td>\n",
       "      <td>0.235095</td>\n",
       "    </tr>\n",
       "  </tbody>\n",
       "</table>\n",
       "</div>"
      ],
      "text/plain": [
       "               omod      ipw0       ipw      aipw\n",
       "point_est -0.016954 -0.713539 -0.053634 -0.043381\n",
       "boot_se    0.235140  0.235259  0.235090  0.235095"
      ]
     },
     "execution_count": 19,
     "metadata": {},
     "output_type": "execute_result"
    }
   ],
   "source": [
    "(causaleffects2 := OS_ATE(z.values, y.values, x, n_boot=1e3, truncps = (0.1, 0.9)))\n"
   ]
  }
 ],
 "metadata": {
  "kernelspec": {
   "display_name": "metrics",
   "language": "python",
   "name": "python3"
  },
  "language_info": {
   "codemirror_mode": {
    "name": "ipython",
    "version": 3
   },
   "file_extension": ".py",
   "mimetype": "text/x-python",
   "name": "python",
   "nbconvert_exporter": "python",
   "pygments_lexer": "ipython3",
   "version": "3.11.5"
  }
 },
 "nbformat": 4,
 "nbformat_minor": 2
}
