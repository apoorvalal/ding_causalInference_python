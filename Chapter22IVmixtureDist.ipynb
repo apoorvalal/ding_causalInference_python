{
 "cells": [
  {
   "cell_type": "markdown",
   "metadata": {},
   "source": [
    "# Chapter 22: Disentangling Mixture Distributions and Instrumental Variable Inequalities"
   ]
  },
  {
   "cell_type": "code",
   "execution_count": 1,
   "metadata": {},
   "outputs": [],
   "source": [
    "# n_z,d,d1  under monotonicity\n",
    "def IVbinary(n111, n110, n101, n100, n011, n010, n001, n000):\n",
    "    n_tr = n111 + n110 + n101 + n100\n",
    "    n_co = n011 + n010 + n001 + n000\n",
    "    n = n_tr + n_co\n",
    "\n",
    "    # proportions of latent strata\n",
    "    pi_n = (n101 + n100) / n_tr  # p(d = 0 | z = 1) never taker\n",
    "    pi_a = (n011 + n010) / n_co  # p(d = 1 | z = 0) always taker\n",
    "    pi_c = 1 - pi_n - pi_a  # by monotonicity, the only remaining group are compliers\n",
    "\n",
    "    # four observed means of the outcomes (Z = z, D = d)\n",
    "    mean_y_11 = n111 / (n111 + n110)\n",
    "    mean_y_10 = n101 / (n101 + n100)\n",
    "    mean_y_01 = n011 / (n011 + n010)\n",
    "    mean_y_00 = n001 / (n001 + n000)\n",
    "    # all four means are positive for binary outcomes\n",
    "\n",
    "    # means of the outcome of two strata\n",
    "    mu_n1, mu_a0 = mean_y_10, mean_y_01\n",
    "    # exclusion implies 0 and 1 are same for always takers and never takers\n",
    "    mu_n0, mu_a1 = mu_n1, mu_a0\n",
    "    # stratum (Z=1, D = 1) is a mixture of c, a\n",
    "    mu_c1 = ((pi_c + pi_a) * mean_y_11 - pi_a * mu_a1) / pi_c\n",
    "    # stratum (Z=0, D = 0) is a mixture of c, n\n",
    "    mu_c0 = ((pi_c + pi_n) * mean_y_00 - pi_n * mu_n0) / pi_c\n",
    "    # identifiable quantities\n",
    "    return {\n",
    "        \"pi_c\": pi_c,\n",
    "        \"pi_n\": pi_n,\n",
    "        \"pi_a\": pi_a,\n",
    "        \"mu_n1\": mu_n1,\n",
    "        \"mu_n0\": mu_n0,\n",
    "        \"mu_a1\": mu_a1,\n",
    "        \"mu_a0\": mu_a0,\n",
    "        \"mu_c1\": mu_c1,\n",
    "        \"mu_c0\": mu_c0,\n",
    "        \"tau_c\": mu_c1 - mu_c0,\n",
    "    }"
   ]
  },
  {
   "cell_type": "code",
   "execution_count": 2,
   "metadata": {},
   "outputs": [
    {
     "data": {
      "text/plain": [
       "{'pi_c': 0.44305817033089756,\n",
       " 'pi_n': 0.4247104247104247,\n",
       " 'pi_a': 0.1322314049586777,\n",
       " 'mu_n1': 0.6181818181818182,\n",
       " 'mu_n0': 0.6181818181818182,\n",
       " 'mu_a1': 0.75,\n",
       " 'mu_a0': 0.75,\n",
       " 'mu_c1': 0.7086064097947424,\n",
       " 'mu_c0': 0.6292041771696075,\n",
       " 'tau_c': 0.0794022326251349}"
      ]
     },
     "execution_count": 2,
     "metadata": {},
     "output_type": "execute_result"
    }
   ],
   "source": [
    "## Investigators et al.(2014) data\n",
    "(\n",
    "    investigators_analysis := IVbinary(\n",
    "        n111=107, n110=42, n101=68, n100=42, n011=24, n010=8, n001=131, n000=79\n",
    "    )\n",
    ")"
   ]
  },
  {
   "cell_type": "code",
   "execution_count": 3,
   "metadata": {},
   "outputs": [
    {
     "data": {
      "text/plain": [
       "{'pi_c': 0.11839971280558428,\n",
       " 'pi_n': 0.6922554347826086,\n",
       " 'pi_a': 0.18934485241180707,\n",
       " 'mu_n1': 0.08243375858684986,\n",
       " 'mu_n0': 0.08243375858684986,\n",
       " 'mu_a1': 0.11406844106463879,\n",
       " 'mu_a0': 0.11406844106463879,\n",
       " 'mu_c1': -0.004548064490810916,\n",
       " 'mu_c0': 0.12000941833518534,\n",
       " 'tau_c': -0.12455748282599625}"
      ]
     },
     "execution_count": 3,
     "metadata": {},
     "output_type": "execute_result"
    }
   ],
   "source": [
    "(\n",
    "    flu_analysis := IVbinary(\n",
    "        n111=31, n110=422, n101=84, n100=935, n011=30, n010=233, n001=99, n000=1027\n",
    "    )\n",
    ")"
   ]
  }
 ],
 "metadata": {
  "kernelspec": {
   "display_name": "metrics",
   "language": "python",
   "name": "python3"
  },
  "language_info": {
   "codemirror_mode": {
    "name": "ipython",
    "version": 3
   },
   "file_extension": ".py",
   "mimetype": "text/x-python",
   "name": "python",
   "nbconvert_exporter": "python",
   "pygments_lexer": "ipython3",
   "version": "3.11.5"
  }
 },
 "nbformat": 4,
 "nbformat_minor": 2
}
