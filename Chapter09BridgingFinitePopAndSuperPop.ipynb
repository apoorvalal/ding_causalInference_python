{
 "cells": [
  {
   "cell_type": "markdown",
   "metadata": {},
   "source": [
    "# Chapter 9: Bridging Finite and Super-population Causal Inference"
   ]
  },
  {
   "cell_type": "code",
   "execution_count": 28,
   "metadata": {},
   "outputs": [
    {
     "name": "stdout",
     "output_type": "stream",
     "text": [
      "The autoreload extension is already loaded. To reload it, use:\n",
      "  %reload_ext autoreload\n",
      "The watermark extension is already loaded. To reload it, use:\n",
      "  %reload_ext watermark\n",
      "numpy            : 1.23.5\n",
      "pandas           : 2.1.1\n",
      "matplotlib_inline: 0.1.6\n",
      "statsmodels      : 0.13.5\n",
      "matplotlib       : 3.8.0\n",
      "\n"
     ]
    }
   ],
   "source": [
    "from joblib import Parallel, delayed\n",
    "\n",
    "import numpy as np\n",
    "import statsmodels.api as sm\n",
    "\n",
    "np.random.seed(42)\n",
    "%load_ext autoreload\n",
    "%autoreload 1\n",
    "\n",
    "%load_ext watermark\n",
    "%watermark --iversions\n",
    "\n"
   ]
  },
  {
   "cell_type": "code",
   "execution_count": 29,
   "metadata": {},
   "outputs": [],
   "source": [
    "def linestimator(Z, Y, X):\n",
    "    X = (X - X.mean(axis=0)) / X.std(axis=0)\n",
    "    n, p = X.shape\n",
    "    # fully interacted OLS\n",
    "    Xmat = np.c_[sm.add_constant(Z), X, Z.reshape(-1, 1) * X]\n",
    "    m = sm.OLS(Y, Xmat).fit(cov_type=\"HC2\")\n",
    "    est, vehw = m.params[1], m.bse[1] ** 2\n",
    "    # super-population correction\n",
    "    inter = m.params[-p:]  # (β_1 - β_0) term - last p elements of coef\n",
    "    # (β_1 - β_0)' Σ (β_1 - β_0) / n\n",
    "    superCorr = np.sum(inter * (np.cov(X.T) @ inter)) / n\n",
    "    vsuper = vehw + superCorr\n",
    "    return est, np.sqrt(vehw), np.sqrt(vsuper)"
   ]
  },
  {
   "cell_type": "code",
   "execution_count": 30,
   "metadata": {},
   "outputs": [],
   "source": [
    "def onerepl(*args):\n",
    "    n = 500\n",
    "    X = np.random.normal(0, 1, n * 2).reshape(n, 2)\n",
    "    Y0 = X[:, 0] + X[:, 0] ** 2 + np.random.uniform(-0.5, 0.5, n)\n",
    "    Y1 = X[:, 1] + X[:, 1] ** 2 + np.random.uniform(-1, 1, n)\n",
    "    Z = np.random.binomial(1, 0.6, n)\n",
    "    Y = Y0 * (1 - Z) + Y1 * Z\n",
    "    return linestimator(Z, Y, X)"
   ]
  },
  {
   "cell_type": "code",
   "execution_count": 31,
   "metadata": {},
   "outputs": [
    {
     "data": {
      "text/plain": [
       "(0.052230404017171474, 0.1475302340448403, 0.1633386978782156)"
      ]
     },
     "execution_count": 31,
     "metadata": {},
     "output_type": "execute_result"
    }
   ],
   "source": [
    "onerepl()"
   ]
  },
  {
   "cell_type": "code",
   "execution_count": 32,
   "metadata": {},
   "outputs": [],
   "source": [
    "nrep, k = 2000, 8\n",
    "results = Parallel(n_jobs=k)(delayed(onerepl)(i) for i in range(nrep))\n",
    "simres = np.vstack(results)"
   ]
  },
  {
   "cell_type": "code",
   "execution_count": 33,
   "metadata": {},
   "outputs": [
    {
     "data": {
      "text/plain": [
       "(0.002113041527341019, 0.13520566776990306, 0.15005198871562947)"
      ]
     },
     "execution_count": 33,
     "metadata": {},
     "output_type": "execute_result"
    }
   ],
   "source": [
    "# bias, estimated EHW SE, estimated super-population SE\n",
    "simres[:, 0].mean(), simres[:, 1].mean(), simres[:, 2].mean()"
   ]
  },
  {
   "cell_type": "code",
   "execution_count": 34,
   "metadata": {},
   "outputs": [
    {
     "data": {
      "text/plain": [
       "0.1507286832895897"
      ]
     },
     "execution_count": 34,
     "metadata": {},
     "output_type": "execute_result"
    }
   ],
   "source": [
    "# empirical SD\n",
    "simres[:, 0].std()"
   ]
  },
  {
   "cell_type": "code",
   "execution_count": 35,
   "metadata": {},
   "outputs": [
    {
     "data": {
      "text/plain": [
       "0.917"
      ]
     },
     "execution_count": 35,
     "metadata": {},
     "output_type": "execute_result"
    }
   ],
   "source": [
    "# EHW coverage\n",
    "np.mean(\n",
    "    (simres[:, 0] - 1.96 * simres[:, 1]) * (simres[:, 0] + 1.96 * simres[:, 1]) <= 0\n",
    ")"
   ]
  },
  {
   "cell_type": "markdown",
   "metadata": {},
   "source": [
    "EHW has below nominal coverage for superpopulation."
   ]
  },
  {
   "cell_type": "code",
   "execution_count": 36,
   "metadata": {},
   "outputs": [
    {
     "data": {
      "text/plain": [
       "0.9505"
      ]
     },
     "execution_count": 36,
     "metadata": {},
     "output_type": "execute_result"
    }
   ],
   "source": [
    "# superpop coverage\n",
    "np.mean(\n",
    "    (simres[:, 0] - 1.96 * simres[:, 2]) * (simres[:, 0] + 1.96 * simres[:, 2]) <= 0\n",
    ")"
   ]
  },
  {
   "cell_type": "markdown",
   "metadata": {},
   "source": [
    "Superpopn is above nom coverage for superpopulation."
   ]
  }
 ],
 "metadata": {
  "kernelspec": {
   "display_name": "econometrics",
   "language": "python",
   "name": "econometrics"
  },
  "language_info": {
   "codemirror_mode": {
    "name": "ipython",
    "version": 3
   },
   "file_extension": ".py",
   "mimetype": "text/x-python",
   "name": "python",
   "nbconvert_exporter": "python",
   "pygments_lexer": "ipython3",
   "version": "3.9.13"
  }
 },
 "nbformat": 4,
 "nbformat_minor": 2
}
