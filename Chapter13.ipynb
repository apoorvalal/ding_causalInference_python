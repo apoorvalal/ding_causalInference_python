{
 "cells": [
  {
   "cell_type": "markdown",
   "metadata": {},
   "source": [
    "# Chapter 13: The Average Causal Effect on the Treated Units and Other Estimands"
   ]
  },
  {
   "cell_type": "code",
   "execution_count": 1,
   "metadata": {},
   "outputs": [
    {
     "name": "stdout",
     "output_type": "stream",
     "text": [
      "seaborn          : 0.12.2\n",
      "matplotlib_inline: 0.1.6\n",
      "statsmodels      : 0.14.0\n",
      "sklearn          : 1.3.2\n",
      "numpy            : 1.24.3\n",
      "matplotlib       : 3.7.2\n",
      "pandas           : 2.0.3\n",
      "\n"
     ]
    }
   ],
   "source": [
    "from joblib import Parallel, delayed\n",
    "\n",
    "import numpy as np\n",
    "import pandas as pd\n",
    "import statsmodels.api as sm\n",
    "import matplotlib.pyplot as plt\n",
    "import seaborn as sns\n",
    "import sklearn as skl\n",
    "\n",
    "font = {'family' : 'IBM Plex Sans Condensed',\n",
    "               'weight' : 'normal',\n",
    "               'size'   : 10}\n",
    "plt.rc('font', **font)\n",
    "plt.rcParams['figure.figsize'] = (6, 6)\n",
    "%matplotlib inline\n",
    "%config InlineBackend.figure_format = 'retina'\n",
    "\n",
    "np.random.seed(42)\n",
    "%load_ext autoreload\n",
    "%autoreload 1\n",
    "\n",
    "%load_ext watermark\n",
    "%watermark --iversions\n",
    "\n"
   ]
  },
  {
   "cell_type": "code",
   "execution_count": 2,
   "metadata": {},
   "outputs": [],
   "source": [
    "def ATT_est(\n",
    "    z,\n",
    "    y,\n",
    "    x,\n",
    "    omod,\n",
    "    pmod,\n",
    "    ub = 1\n",
    "):\n",
    "    # E[Y | Z = 1]\n",
    "    y0mean = y[z==1].mean()\n",
    "    nn, nn1 = len(z), z.sum()\n",
    "    # fit pscore\n",
    "    pscore = pmod.fit(x, z).predict_proba(x)[:, 1]\n",
    "    pscore = np.clip(pscore, None, ub)\n",
    "    odds = pscore / (1- pscore)\n",
    "    # fitted potential outcomes\n",
    "    outcome0 = omod.fit(x[z == 0, :], y[z == 0]).predict(x)\n",
    "    # omod\n",
    "    ace_reg0 = sm.OLS(y, np.c_[sm.add_constant(z), x]).fit().params[1]\n",
    "    ace_reg = y0mean - outcome0[z==1].mean()\n",
    "    # ipw\n",
    "    ace_ipw0 = y0mean - (odds * (1-z) * y).mean() * (nn / nn1)\n",
    "    ace_ipw = y0mean - (odds * (1-z) * y).mean() / (odds * (1-z)).mean()\n",
    "    # aipw\n",
    "    res0 = y - outcome0\n",
    "    ace_dr = ace_reg - (odds * (1 - z) * res0).mean() * (nn/nn1)\n",
    "    return np.array([ace_reg0, ace_reg, ace_ipw0, ace_ipw, ace_dr])\n"
   ]
  },
  {
   "cell_type": "code",
   "execution_count": 3,
   "metadata": {},
   "outputs": [],
   "source": [
    "from sklearn.linear_model import LogisticRegression, LinearRegression\n",
    "lmod, omod = LogisticRegression(penalty = None), LinearRegression()\n"
   ]
  },
  {
   "cell_type": "code",
   "execution_count": 4,
   "metadata": {},
   "outputs": [],
   "source": [
    "def OS_ATT(z, y, x, omod=omod, pmod=lmod, n_boot=2 * 1e2, Utruncps = 1):\n",
    "    n = len(z)\n",
    "    point_est = ATT_est(z, y, x, omod, pmod, Utruncps)\n",
    "    def bootfn(*args):\n",
    "        # draw indices\n",
    "        ids = np.random.choice(np.arange(n), size = n, replace = True)\n",
    "        return ATT_est(z[ids], y[ids], x[ids,:], omod, pmod)\n",
    "    boot_est = Parallel(n_jobs=-1)(\n",
    "        delayed(bootfn)(i) for i in range(int(n_boot))\n",
    "    )\n",
    "    boot_est = np.vstack(boot_est)\n",
    "    boot_se = boot_est.std(axis=0)\n",
    "    res = pd.DataFrame(\n",
    "        [point_est, boot_se],\n",
    "        index=[\"point_est\", \"boot_se\"],\n",
    "        columns=[\"omod0\", \"omod\", \"ipw0\", \"ipw\", \"aipw\"],\n",
    "    )\n",
    "    return res\n"
   ]
  },
  {
   "cell_type": "markdown",
   "metadata": {},
   "source": [
    "## application"
   ]
  },
  {
   "cell_type": "code",
   "execution_count": 5,
   "metadata": {},
   "outputs": [],
   "source": [
    "from sklearn.preprocessing import MinMaxScaler\n",
    "\n",
    "nhanes_bmi = pd.read_csv('nhanes_bmi.csv').iloc[:, 1:]\n",
    "nhanes_bmi.head()\n",
    "\n",
    "z, y = nhanes_bmi.School_meal.values, nhanes_bmi.BMI.values,\n",
    "x = MinMaxScaler().fit_transform(X = nhanes_bmi.iloc[:, 2:].values)\n"
   ]
  },
  {
   "cell_type": "code",
   "execution_count": 6,
   "metadata": {},
   "outputs": [
    {
     "data": {
      "text/html": [
       "<div>\n",
       "<style scoped>\n",
       "    .dataframe tbody tr th:only-of-type {\n",
       "        vertical-align: middle;\n",
       "    }\n",
       "\n",
       "    .dataframe tbody tr th {\n",
       "        vertical-align: top;\n",
       "    }\n",
       "\n",
       "    .dataframe thead th {\n",
       "        text-align: right;\n",
       "    }\n",
       "</style>\n",
       "<table border=\"1\" class=\"dataframe\">\n",
       "  <thead>\n",
       "    <tr style=\"text-align: right;\">\n",
       "      <th></th>\n",
       "      <th>omod0</th>\n",
       "      <th>omod</th>\n",
       "      <th>ipw0</th>\n",
       "      <th>ipw</th>\n",
       "      <th>aipw</th>\n",
       "    </tr>\n",
       "  </thead>\n",
       "  <tbody>\n",
       "    <tr>\n",
       "      <th>point_est</th>\n",
       "      <td>0.061248</td>\n",
       "      <td>-0.350718</td>\n",
       "      <td>-1.992439</td>\n",
       "      <td>-0.350810</td>\n",
       "      <td>-0.187104</td>\n",
       "    </tr>\n",
       "    <tr>\n",
       "      <th>boot_se</th>\n",
       "      <td>0.218705</td>\n",
       "      <td>0.244770</td>\n",
       "      <td>0.705875</td>\n",
       "      <td>0.320366</td>\n",
       "      <td>0.272267</td>\n",
       "    </tr>\n",
       "  </tbody>\n",
       "</table>\n",
       "</div>"
      ],
      "text/plain": [
       "              omod0      omod      ipw0       ipw      aipw\n",
       "point_est  0.061248 -0.350718 -1.992439 -0.350810 -0.187104\n",
       "boot_se    0.218705  0.244770  0.705875  0.320366  0.272267"
      ]
     },
     "execution_count": 6,
     "metadata": {},
     "output_type": "execute_result"
    }
   ],
   "source": [
    "(causaleffects := OS_ATT(z, y, x, n_boot=1e3, Utruncps=1))\n"
   ]
  },
  {
   "cell_type": "code",
   "execution_count": 7,
   "metadata": {},
   "outputs": [
    {
     "data": {
      "text/html": [
       "<div>\n",
       "<style scoped>\n",
       "    .dataframe tbody tr th:only-of-type {\n",
       "        vertical-align: middle;\n",
       "    }\n",
       "\n",
       "    .dataframe tbody tr th {\n",
       "        vertical-align: top;\n",
       "    }\n",
       "\n",
       "    .dataframe thead th {\n",
       "        text-align: right;\n",
       "    }\n",
       "</style>\n",
       "<table border=\"1\" class=\"dataframe\">\n",
       "  <thead>\n",
       "    <tr style=\"text-align: right;\">\n",
       "      <th></th>\n",
       "      <th>omod0</th>\n",
       "      <th>omod</th>\n",
       "      <th>ipw0</th>\n",
       "      <th>ipw</th>\n",
       "      <th>aipw</th>\n",
       "    </tr>\n",
       "  </thead>\n",
       "  <tbody>\n",
       "    <tr>\n",
       "      <th>point_est</th>\n",
       "      <td>0.061248</td>\n",
       "      <td>-0.350718</td>\n",
       "      <td>-0.597019</td>\n",
       "      <td>-0.192312</td>\n",
       "      <td>-0.229505</td>\n",
       "    </tr>\n",
       "    <tr>\n",
       "      <th>boot_se</th>\n",
       "      <td>0.223913</td>\n",
       "      <td>0.252921</td>\n",
       "      <td>0.711488</td>\n",
       "      <td>0.336343</td>\n",
       "      <td>0.276487</td>\n",
       "    </tr>\n",
       "  </tbody>\n",
       "</table>\n",
       "</div>"
      ],
      "text/plain": [
       "              omod0      omod      ipw0       ipw      aipw\n",
       "point_est  0.061248 -0.350718 -0.597019 -0.192312 -0.229505\n",
       "boot_se    0.223913  0.252921  0.711488  0.336343  0.276487"
      ]
     },
     "execution_count": 7,
     "metadata": {},
     "output_type": "execute_result"
    }
   ],
   "source": [
    "(causaleffects := OS_ATT(z, y, x, n_boot=1e3, Utruncps=.9))\n"
   ]
  },
  {
   "cell_type": "markdown",
   "metadata": {},
   "source": [
    "with more flexible nuisance functions"
   ]
  },
  {
   "cell_type": "code",
   "execution_count": 14,
   "metadata": {},
   "outputs": [],
   "source": [
    "from sklearn.ensemble import GradientBoostingClassifier, GradientBoostingRegressor\n",
    "rfc, rfr = (GradientBoostingClassifier(max_depth = 3, random_state = 0),\n",
    "            GradientBoostingRegressor(max_depth = 3, random_state = 0))\n"
   ]
  },
  {
   "cell_type": "code",
   "execution_count": 16,
   "metadata": {},
   "outputs": [
    {
     "data": {
      "text/html": [
       "<div>\n",
       "<style scoped>\n",
       "    .dataframe tbody tr th:only-of-type {\n",
       "        vertical-align: middle;\n",
       "    }\n",
       "\n",
       "    .dataframe tbody tr th {\n",
       "        vertical-align: top;\n",
       "    }\n",
       "\n",
       "    .dataframe thead th {\n",
       "        text-align: right;\n",
       "    }\n",
       "</style>\n",
       "<table border=\"1\" class=\"dataframe\">\n",
       "  <thead>\n",
       "    <tr style=\"text-align: right;\">\n",
       "      <th></th>\n",
       "      <th>omod0</th>\n",
       "      <th>omod</th>\n",
       "      <th>ipw0</th>\n",
       "      <th>ipw</th>\n",
       "      <th>aipw</th>\n",
       "    </tr>\n",
       "  </thead>\n",
       "  <tbody>\n",
       "    <tr>\n",
       "      <th>point_est</th>\n",
       "      <td>0.061248</td>\n",
       "      <td>-0.171171</td>\n",
       "      <td>5.234295</td>\n",
       "      <td>-0.197837</td>\n",
       "      <td>-0.212641</td>\n",
       "    </tr>\n",
       "    <tr>\n",
       "      <th>boot_se</th>\n",
       "      <td>0.230824</td>\n",
       "      <td>0.287914</td>\n",
       "      <td>0.509390</td>\n",
       "      <td>0.312949</td>\n",
       "      <td>0.302220</td>\n",
       "    </tr>\n",
       "  </tbody>\n",
       "</table>\n",
       "</div>"
      ],
      "text/plain": [
       "              omod0      omod      ipw0       ipw      aipw\n",
       "point_est  0.061248 -0.171171  5.234295 -0.197837 -0.212641\n",
       "boot_se    0.230824  0.287914  0.509390  0.312949  0.302220"
      ]
     },
     "execution_count": 16,
     "metadata": {},
     "output_type": "execute_result"
    }
   ],
   "source": [
    "(causaleffects := OS_ATT(z, y, x, omod = rfr, pmod = rfc,  n_boot=1e3, Utruncps=.9))\n"
   ]
  },
  {
   "cell_type": "markdown",
   "metadata": {},
   "source": [
    "## bonus: balancing weights\n",
    "\n",
    "[calibration](https://github.com/google/empirical_calibration) package"
   ]
  },
  {
   "cell_type": "code",
   "execution_count": 8,
   "metadata": {},
   "outputs": [],
   "source": [
    "import empirical_calibration as ec\n",
    "from sklearn.preprocessing import PolynomialFeatures\n"
   ]
  },
  {
   "cell_type": "markdown",
   "metadata": {},
   "source": [
    "Polynomial basis: linear and quadratic terms."
   ]
  },
  {
   "cell_type": "code",
   "execution_count": 9,
   "metadata": {},
   "outputs": [],
   "source": [
    "X = PolynomialFeatures(degree = 2).fit_transform(x)\n"
   ]
  },
  {
   "cell_type": "code",
   "execution_count": 10,
   "metadata": {},
   "outputs": [
    {
     "data": {
      "text/plain": [
       "-0.5635223070320698"
      ]
     },
     "execution_count": 10,
     "metadata": {},
     "output_type": "execute_result"
    }
   ],
   "source": [
    "entr_weights, success = ec.calibrate(covariates= X[z == 0,:],\n",
    "                                target_covariates= X[z == 1, :],\n",
    "                                objective = ec.Objective.ENTROPY)\n",
    "y[z==1].mean() - np.sum(y[z==0] * entr_weights)\n"
   ]
  },
  {
   "cell_type": "code",
   "execution_count": 11,
   "metadata": {},
   "outputs": [
    {
     "data": {
      "text/plain": [
       "-0.6197354773671719"
      ]
     },
     "execution_count": 11,
     "metadata": {},
     "output_type": "execute_result"
    }
   ],
   "source": [
    "l2_weights, success = ec.calibrate(covariates= X[z == 0,:],\n",
    "                                target_covariates= X[z == 1, :],\n",
    "                                objective = ec.Objective.QUADRATIC)\n",
    "y[z==1].mean() - np.sum(y[z==0] * l2_weights)\n"
   ]
  }
 ],
 "metadata": {
  "kernelspec": {
   "display_name": "metrics",
   "language": "python",
   "name": "python3"
  },
  "language_info": {
   "codemirror_mode": {
    "name": "ipython",
    "version": 3
   },
   "file_extension": ".py",
   "mimetype": "text/x-python",
   "name": "python",
   "nbconvert_exporter": "python",
   "pygments_lexer": "ipython3",
   "version": "3.11.5"
  }
 },
 "nbformat": 4,
 "nbformat_minor": 2
}
